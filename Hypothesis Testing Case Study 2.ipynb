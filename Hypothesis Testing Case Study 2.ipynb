{
 "cells": [
  {
   "cell_type": "code",
   "execution_count": 2,
   "id": "05a9c61b",
   "metadata": {},
   "outputs": [],
   "source": [
    "# Importing the packages\n",
    "import numpy as np\n",
    "import pandas as pd\n",
    "import matplotlib.pyplot as plt\n",
    "import seaborn as sns\n",
    "import scipy.stats as stats  #for the statistical tests\n",
    "from scipy import stats as stats\n",
    "%matplotlib inline"
   ]
  },
  {
   "cell_type": "code",
   "execution_count": 3,
   "id": "9ac27f67",
   "metadata": {},
   "outputs": [],
   "source": [
    "loans = pd.read_csv(r\"C:\\Users\\bless\\OneDrive\\Desktop\\Data Science\\Python\\Case Studies\\Basic Statistics - Hypothesis Testing\\4. Basic Statistics - Hypothesis Testing\\LoansData.csv\")"
   ]
  },
  {
   "cell_type": "code",
   "execution_count": 4,
   "id": "510ea482",
   "metadata": {},
   "outputs": [],
   "source": [
    "loans['Interest.Rate'] = loans['Interest.Rate'].str.replace('%', '', regex=True).astype(float)\n",
    "loans['Loan.Length'] = loans['Loan.Length'].str.replace(' months', '', regex=True).astype(float)\n",
    "loans['Debt.To.Income.Ratio'] = loans['Debt.To.Income.Ratio'].str.replace('%', '', regex=True).astype(float)"
   ]
  },
  {
   "cell_type": "markdown",
   "id": "ff9dee98",
   "metadata": {},
   "source": [
    "# a. Intrest rate is varied for different loan amounts (Less intrest charged for high loan amounts)\n"
   ]
  },
  {
   "cell_type": "code",
   "execution_count": 9,
   "id": "4cf49b46",
   "metadata": {},
   "outputs": [
    {
     "name": "stdout",
     "output_type": "stream",
     "text": [
      "t-statistic: 14.147818309512642\n",
      "p-value: 1.0284924762041011e-43\n"
     ]
    }
   ],
   "source": [
    "import pandas as pd\n",
    "from scipy.stats import ttest_ind\n",
    "\n",
    "# Divide the loans into two groups based on loan amount\n",
    "high_loan_amounts = loans[loans['Amount.Requested'] > loans['Amount.Requested'].mean()]\n",
    "low_loan_amounts = loans[loans['Amount.Requested'] <= loans['Amount.Requested'].mean()]\n",
    "\n",
    "# Perform a two-sample t-test on the interest rates of the two groups\n",
    "t_stat, p_val = ttest_ind(high_loan_amounts['Interest.Rate'], low_loan_amounts['Interest.Rate'])\n",
    "\n",
    "# Print the results of the t-test\n",
    "print('t-statistic:', t_stat)\n",
    "print('p-value:', p_val)"
   ]
  },
  {
   "cell_type": "raw",
   "id": "98e6e705",
   "metadata": {},
   "source": [
    "The t-statistic is a measure of the difference between the means of the two groups relative to the variance within the groups. In this case, the t-statistic is 14.15. This means that the difference between the mean interest rates of loans with high amounts and loans with low amounts is 14.15 times larger than the standard error of the difference between the means.\n",
    "\n",
    "The p-value is a measure of the probability of observing a t-statistic as extreme as the one calculated from the data, assuming that the null hypothesis (that the means of the two groups are equal) is true. In this case, the p-value is 1.03 x 10^-43. This is an extremely small value, which indicates that there is very strong evidence against the null hypothesis. Therefore, we can reject the null hypothesis and conclude that there is a statistically significant difference between the mean interest rates of loans with high amounts and loans with low amounts.\n",
    "\n",
    "In other words, we can say that the data provides strong evidence that interest rate is varied for different loan amounts, with less interest charged for high loan amounts."
   ]
  },
  {
   "cell_type": "markdown",
   "id": "2ed1ba90",
   "metadata": {},
   "source": [
    "# 2. Loan length is directly effecting intrest rate"
   ]
  },
  {
   "cell_type": "code",
   "execution_count": 11,
   "id": "2d234df5",
   "metadata": {},
   "outputs": [
    {
     "name": "stdout",
     "output_type": "stream",
     "text": [
      "correlation coefficient: 0.4250573823094828\n",
      "p-value: 1.7938010673273293e-106\n"
     ]
    }
   ],
   "source": [
    "import pandas as pd\n",
    "from scipy.stats import pearsonr\n",
    "\n",
    "# Calculate the correlation coefficient between loan length and interest rate\n",
    "corr_coef, p_val = pearsonr(loans['Loan.Length'], loans['Interest.Rate'])\n",
    "\n",
    "# Print the results of the correlation test\n",
    "print('correlation coefficient:', corr_coef)\n",
    "print('p-value:', p_val)"
   ]
  },
  {
   "cell_type": "raw",
   "id": "a794e9b7",
   "metadata": {},
   "source": [
    "The correlation coefficient between loan length and interest rate is 0.43. This indicates a moderate positive correlation between the two variables. In other words, as loan length increases, interest rate tends to increase as well. However, the correlation is not very strong, which means that there is still a lot of variability in the data that is not explained by the relationship between loan length and interest rate.\n",
    "\n",
    "The p-value is very small (1.79 x 10^-106), which indicates that there is very strong evidence against the null hypothesis that there is no correlation between loan length and interest rate. Therefore, we can reject the null hypothesis and conclude that there is a statistically significant relationship between loan length and interest rate.\n",
    "\n",
    "The business implications of this result are that lenders may need to adjust their interest rates based on the length of the loan. Loans with longer terms may be riskier for lenders, as there is more time for the borrower to default on the loan. Therefore, lenders may need to charge higher interest rates to compensate for this risk. On the other hand, loans with shorter terms may be less risky, so lenders may be able to charge lower interest rates. By understanding the relationship between loan length and interest rate, lenders can make more informed decisions about how to price their loans and manage their risk."
   ]
  },
  {
   "cell_type": "code",
   "execution_count": 10,
   "id": "61f5ea73",
   "metadata": {},
   "outputs": [
    {
     "data": {
      "text/plain": [
       "array(['debt_consolidation', 'credit_card', 'other', 'moving', 'car',\n",
       "       'vacation', 'home_improvement', 'house', 'major_purchase',\n",
       "       'educational', 'medical', 'wedding', 'small_business',\n",
       "       'renewable_energy'], dtype=object)"
      ]
     },
     "execution_count": 10,
     "metadata": {},
     "output_type": "execute_result"
    }
   ],
   "source": [
    "loans['Loan.Purpose'].unique()"
   ]
  },
  {
   "cell_type": "markdown",
   "id": "c12d7992",
   "metadata": {},
   "source": [
    "# c. Intrest rate varies for different purpose of loans"
   ]
  },
  {
   "cell_type": "code",
   "execution_count": 14,
   "id": "fcad9053",
   "metadata": {},
   "outputs": [
    {
     "data": {
      "text/plain": [
       "F_onewayResult(statistic=7.33083818591965, pvalue=2.7646672581411367e-14)"
      ]
     },
     "execution_count": 14,
     "metadata": {},
     "output_type": "execute_result"
    }
   ],
   "source": [
    "# Perform the ANOVA test\n",
    "result = stats.f_oneway(loans[loans['Loan.Purpose'] == 'credit_card']['Interest.Rate'],\n",
    "                        loans[loans['Loan.Purpose'] == 'debt_consolidation']['Interest.Rate'],\n",
    "                        loans[loans['Loan.Purpose'] == 'educational']['Interest.Rate'],\n",
    "                        loans[loans['Loan.Purpose'] == 'major_purchase']['Interest.Rate'],\n",
    "                        loans[loans['Loan.Purpose'] == 'small_business']['Interest.Rate'],\n",
    "                        loans[loans['Loan.Purpose'] == 'other']['Interest.Rate'],\n",
    "                        loans[loans['Loan.Purpose'] == 'moving']['Interest.Rate'],\n",
    "                        loans[loans['Loan.Purpose'] == 'car']['Interest.Rate'],\n",
    "                        loans[loans['Loan.Purpose'] == 'home_improvement']['Interest.Rate'],\n",
    "                        loans[loans['Loan.Purpose'] == 'vacation']['Interest.Rate'],\n",
    "                        loans[loans['Loan.Purpose'] == 'renewable_energy']['Interest.Rate'],\n",
    "                        loans[loans['Loan.Purpose'] == 'wedding']['Interest.Rate'],\n",
    "                        loans[loans['Loan.Purpose'] == 'medical']['Interest.Rate'],\n",
    "                        loans[loans['Loan.Purpose'] == 'house']['Interest.Rate'])\n",
    "\n",
    "result"
   ]
  },
  {
   "cell_type": "raw",
   "id": "c64ba471",
   "metadata": {},
   "source": [
    "In this case, the ANOVA test indicates that there is a significant difference in interest rates between different loan purposes. The p-value associated with the test is 2.76e-14, which is less than 0.05. This suggests that lenders charge different interest rates for different loan purposes.\n",
    "\n",
    "The business implications of these results are that companies may want to consider loan purpose as a factor when determining interest rates. Specifically, companies may want to offer lower interest rates for loans that are used for certain purposes in order to attract more customers and increase their market share. Additionally, companies may want to adjust their lending practices based on the results of this analysis in order to optimize their profits and minimize their risks."
   ]
  },
  {
   "cell_type": "markdown",
   "id": "ee138a5a",
   "metadata": {},
   "source": [
    "# d. There is relationship between FICO scores and Home Ownership. It means that, People with owning home will have high FICO scores."
   ]
  },
  {
   "cell_type": "code",
   "execution_count": 24,
   "id": "b4e70c44",
   "metadata": {},
   "outputs": [
    {
     "name": "stdout",
     "output_type": "stream",
     "text": [
      "Ttest_indResult(statistic=0.4755690628354589, pvalue=0.6344245033040679)\n"
     ]
    }
   ],
   "source": [
    "import pandas as pd\n",
    "import scipy.stats as stats\n",
    "\n",
    "# Extract and convert FICO scores from string ranges to integers\n",
    "loans['FICO.Score'] = loans['FICO.Range'].str.split('-').apply(lambda x: int(x[0]))\n",
    "\n",
    "# Define the two samples\n",
    "own_home = loans[loans['Home.Ownership'] == 'OWN']['FICO.Score']\n",
    "not_own_home = loans[loans['Home.Ownership'] != 'OWN']['FICO.Score']\n",
    "\n",
    "# Perform the two-sample t-test\n",
    "result = stats.ttest_ind(own_home, not_own_home)\n",
    "\n",
    "# Print the results of the test\n",
    "print(result)"
   ]
  },
  {
   "cell_type": "raw",
   "id": "195d15f6",
   "metadata": {},
   "source": [
    "In this case, the two-sample t-test indicates that there is no significant difference in FICO scores between people who own homes and those who do not. The p-value associated with the test is 0.634, which is greater than 0.05. This suggests that there is not enough evidence to reject the null hypothesis that there is no significant difference in FICO scores between these two groups.\n",
    "\n",
    "The business implications of these results are that companies may not need to consider home ownership as a factor when determining FICO scores. Instead, they may want to focus on other factors such as credit history, income, and debt-to-income ratio when making lending decisions."
   ]
  },
  {
   "cell_type": "code",
   "execution_count": 5,
   "id": "1a9cf73e",
   "metadata": {},
   "outputs": [
    {
     "data": {
      "text/html": [
       "<div>\n",
       "<style scoped>\n",
       "    .dataframe tbody tr th:only-of-type {\n",
       "        vertical-align: middle;\n",
       "    }\n",
       "\n",
       "    .dataframe tbody tr th {\n",
       "        vertical-align: top;\n",
       "    }\n",
       "\n",
       "    .dataframe thead th {\n",
       "        text-align: right;\n",
       "    }\n",
       "</style>\n",
       "<table border=\"1\" class=\"dataframe\">\n",
       "  <thead>\n",
       "    <tr style=\"text-align: right;\">\n",
       "      <th></th>\n",
       "      <th>Amount.Requested</th>\n",
       "      <th>Amount.Funded.By.Investors</th>\n",
       "      <th>Interest.Rate</th>\n",
       "      <th>Loan.Length</th>\n",
       "      <th>Loan.Purpose</th>\n",
       "      <th>Debt.To.Income.Ratio</th>\n",
       "      <th>State</th>\n",
       "      <th>Home.Ownership</th>\n",
       "      <th>Monthly.Income</th>\n",
       "      <th>FICO.Range</th>\n",
       "      <th>Open.CREDIT.Lines</th>\n",
       "      <th>Revolving.CREDIT.Balance</th>\n",
       "      <th>Inquiries.in.the.Last.6.Months</th>\n",
       "      <th>Employment.Length</th>\n",
       "    </tr>\n",
       "  </thead>\n",
       "  <tbody>\n",
       "    <tr>\n",
       "      <th>0</th>\n",
       "      <td>20000.0</td>\n",
       "      <td>20000.0</td>\n",
       "      <td>8.90</td>\n",
       "      <td>36.0</td>\n",
       "      <td>debt_consolidation</td>\n",
       "      <td>14.90</td>\n",
       "      <td>SC</td>\n",
       "      <td>MORTGAGE</td>\n",
       "      <td>6541.67</td>\n",
       "      <td>735-739</td>\n",
       "      <td>14.0</td>\n",
       "      <td>14272.0</td>\n",
       "      <td>2.0</td>\n",
       "      <td>&lt; 1 year</td>\n",
       "    </tr>\n",
       "    <tr>\n",
       "      <th>1</th>\n",
       "      <td>19200.0</td>\n",
       "      <td>19200.0</td>\n",
       "      <td>12.12</td>\n",
       "      <td>36.0</td>\n",
       "      <td>debt_consolidation</td>\n",
       "      <td>28.36</td>\n",
       "      <td>TX</td>\n",
       "      <td>MORTGAGE</td>\n",
       "      <td>4583.33</td>\n",
       "      <td>715-719</td>\n",
       "      <td>12.0</td>\n",
       "      <td>11140.0</td>\n",
       "      <td>1.0</td>\n",
       "      <td>2 years</td>\n",
       "    </tr>\n",
       "    <tr>\n",
       "      <th>2</th>\n",
       "      <td>35000.0</td>\n",
       "      <td>35000.0</td>\n",
       "      <td>21.98</td>\n",
       "      <td>60.0</td>\n",
       "      <td>debt_consolidation</td>\n",
       "      <td>23.81</td>\n",
       "      <td>CA</td>\n",
       "      <td>MORTGAGE</td>\n",
       "      <td>11500.00</td>\n",
       "      <td>690-694</td>\n",
       "      <td>14.0</td>\n",
       "      <td>21977.0</td>\n",
       "      <td>1.0</td>\n",
       "      <td>2 years</td>\n",
       "    </tr>\n",
       "    <tr>\n",
       "      <th>3</th>\n",
       "      <td>10000.0</td>\n",
       "      <td>9975.0</td>\n",
       "      <td>9.99</td>\n",
       "      <td>36.0</td>\n",
       "      <td>debt_consolidation</td>\n",
       "      <td>14.30</td>\n",
       "      <td>KS</td>\n",
       "      <td>MORTGAGE</td>\n",
       "      <td>3833.33</td>\n",
       "      <td>695-699</td>\n",
       "      <td>10.0</td>\n",
       "      <td>9346.0</td>\n",
       "      <td>0.0</td>\n",
       "      <td>5 years</td>\n",
       "    </tr>\n",
       "    <tr>\n",
       "      <th>4</th>\n",
       "      <td>12000.0</td>\n",
       "      <td>12000.0</td>\n",
       "      <td>11.71</td>\n",
       "      <td>36.0</td>\n",
       "      <td>credit_card</td>\n",
       "      <td>18.78</td>\n",
       "      <td>NJ</td>\n",
       "      <td>RENT</td>\n",
       "      <td>3195.00</td>\n",
       "      <td>695-699</td>\n",
       "      <td>11.0</td>\n",
       "      <td>14469.0</td>\n",
       "      <td>0.0</td>\n",
       "      <td>9 years</td>\n",
       "    </tr>\n",
       "  </tbody>\n",
       "</table>\n",
       "</div>"
      ],
      "text/plain": [
       "   Amount.Requested  Amount.Funded.By.Investors  Interest.Rate  Loan.Length  \\\n",
       "0           20000.0                     20000.0           8.90         36.0   \n",
       "1           19200.0                     19200.0          12.12         36.0   \n",
       "2           35000.0                     35000.0          21.98         60.0   \n",
       "3           10000.0                      9975.0           9.99         36.0   \n",
       "4           12000.0                     12000.0          11.71         36.0   \n",
       "\n",
       "         Loan.Purpose  Debt.To.Income.Ratio State Home.Ownership  \\\n",
       "0  debt_consolidation                 14.90    SC       MORTGAGE   \n",
       "1  debt_consolidation                 28.36    TX       MORTGAGE   \n",
       "2  debt_consolidation                 23.81    CA       MORTGAGE   \n",
       "3  debt_consolidation                 14.30    KS       MORTGAGE   \n",
       "4         credit_card                 18.78    NJ           RENT   \n",
       "\n",
       "   Monthly.Income FICO.Range  Open.CREDIT.Lines  Revolving.CREDIT.Balance  \\\n",
       "0         6541.67    735-739               14.0                   14272.0   \n",
       "1         4583.33    715-719               12.0                   11140.0   \n",
       "2        11500.00    690-694               14.0                   21977.0   \n",
       "3         3833.33    695-699               10.0                    9346.0   \n",
       "4         3195.00    695-699               11.0                   14469.0   \n",
       "\n",
       "   Inquiries.in.the.Last.6.Months Employment.Length  \n",
       "0                             2.0          < 1 year  \n",
       "1                             1.0           2 years  \n",
       "2                             1.0           2 years  \n",
       "3                             0.0           5 years  \n",
       "4                             0.0           9 years  "
      ]
     },
     "execution_count": 5,
     "metadata": {},
     "output_type": "execute_result"
    }
   ],
   "source": [
    "loans.head()"
   ]
  },
  {
   "cell_type": "code",
   "execution_count": 16,
   "id": "f289bc5b",
   "metadata": {},
   "outputs": [
    {
     "data": {
      "text/plain": [
       "array(['MORTGAGE', 'RENT', 'OWN', 'OTHER'], dtype=object)"
      ]
     },
     "execution_count": 16,
     "metadata": {},
     "output_type": "execute_result"
    }
   ],
   "source": [
    "loans[\"Home.Ownership\"].unique()"
   ]
  },
  {
   "cell_type": "code",
   "execution_count": null,
   "id": "8108ecee",
   "metadata": {},
   "outputs": [],
   "source": []
  },
  {
   "cell_type": "code",
   "execution_count": 6,
   "id": "254fe191",
   "metadata": {},
   "outputs": [
    {
     "data": {
      "text/plain": [
       "Amount.Requested                  float64\n",
       "Amount.Funded.By.Investors        float64\n",
       "Interest.Rate                     float64\n",
       "Loan.Length                       float64\n",
       "Loan.Purpose                       object\n",
       "Debt.To.Income.Ratio              float64\n",
       "State                              object\n",
       "Home.Ownership                     object\n",
       "Monthly.Income                    float64\n",
       "FICO.Range                         object\n",
       "Open.CREDIT.Lines                 float64\n",
       "Revolving.CREDIT.Balance          float64\n",
       "Inquiries.in.the.Last.6.Months    float64\n",
       "Employment.Length                  object\n",
       "dtype: object"
      ]
     },
     "execution_count": 6,
     "metadata": {},
     "output_type": "execute_result"
    }
   ],
   "source": [
    "loans.dtypes"
   ]
  },
  {
   "cell_type": "code",
   "execution_count": null,
   "id": "997ea164",
   "metadata": {},
   "outputs": [],
   "source": []
  },
  {
   "cell_type": "markdown",
   "id": "2bcc3056",
   "metadata": {},
   "source": [
    "# BUSINESS PROBLEM 2"
   ]
  },
  {
   "cell_type": "code",
   "execution_count": 5,
   "id": "1d52e0ee",
   "metadata": {},
   "outputs": [],
   "source": [
    "price = pd.read_csv(\"Price_Quotes.csv\")"
   ]
  },
  {
   "cell_type": "code",
   "execution_count": 6,
   "id": "7725c3e1",
   "metadata": {},
   "outputs": [
    {
     "data": {
      "text/html": [
       "<div>\n",
       "<style scoped>\n",
       "    .dataframe tbody tr th:only-of-type {\n",
       "        vertical-align: middle;\n",
       "    }\n",
       "\n",
       "    .dataframe tbody tr th {\n",
       "        vertical-align: top;\n",
       "    }\n",
       "\n",
       "    .dataframe thead th {\n",
       "        text-align: right;\n",
       "    }\n",
       "</style>\n",
       "<table border=\"1\" class=\"dataframe\">\n",
       "  <thead>\n",
       "    <tr style=\"text-align: right;\">\n",
       "      <th></th>\n",
       "      <th>Order_Number</th>\n",
       "      <th>Barry_Price</th>\n",
       "      <th>Mary_Price</th>\n",
       "    </tr>\n",
       "  </thead>\n",
       "  <tbody>\n",
       "    <tr>\n",
       "      <th>0</th>\n",
       "      <td>1</td>\n",
       "      <td>126</td>\n",
       "      <td>114</td>\n",
       "    </tr>\n",
       "    <tr>\n",
       "      <th>1</th>\n",
       "      <td>2</td>\n",
       "      <td>110</td>\n",
       "      <td>118</td>\n",
       "    </tr>\n",
       "    <tr>\n",
       "      <th>2</th>\n",
       "      <td>3</td>\n",
       "      <td>138</td>\n",
       "      <td>114</td>\n",
       "    </tr>\n",
       "    <tr>\n",
       "      <th>3</th>\n",
       "      <td>4</td>\n",
       "      <td>142</td>\n",
       "      <td>111</td>\n",
       "    </tr>\n",
       "    <tr>\n",
       "      <th>4</th>\n",
       "      <td>5</td>\n",
       "      <td>146</td>\n",
       "      <td>129</td>\n",
       "    </tr>\n",
       "  </tbody>\n",
       "</table>\n",
       "</div>"
      ],
      "text/plain": [
       "   Order_Number  Barry_Price  Mary_Price\n",
       "0             1          126         114\n",
       "1             2          110         118\n",
       "2             3          138         114\n",
       "3             4          142         111\n",
       "4             5          146         129"
      ]
     },
     "execution_count": 6,
     "metadata": {},
     "output_type": "execute_result"
    }
   ],
   "source": [
    "price.head()"
   ]
  },
  {
   "cell_type": "markdown",
   "id": "13889d66",
   "metadata": {},
   "source": [
    "# BUSINESS PROBLEM: We would like to assess if there is any difference in the average price quotes provided by Mary and Barry"
   ]
  },
  {
   "cell_type": "code",
   "execution_count": 13,
   "id": "60b22d72",
   "metadata": {},
   "outputs": [
    {
     "name": "stdout",
     "output_type": "stream",
     "text": [
      "t-stat: -1.4147436739281787 p_value: 0.17114226132118285\n"
     ]
    }
   ],
   "source": [
    "from scipy import stats\n",
    "\n",
    "mary_prices = price['Mary_Price']\n",
    "barry_prices = price['Barry_Price']\n",
    "\n",
    "t_stat, p_value = stats.ttest_ind(mary_prices, barry_prices)\n",
    "\n",
    "print('t-stat:', t_stat, 'p_value:', p_value)"
   ]
  },
  {
   "cell_type": "raw",
   "id": "6eb9061b",
   "metadata": {},
   "source": [
    "Based on the t-test results and the chosen significance level (α = 0.05), you fail to reject the null hypothesis. This means that there is not enough statistical evidence to conclude that there is a significant difference in the average price quotes provided by Mary and Barry. The observed difference between their averages could have occurred due to random variation.\n",
    "\n",
    "Business Significance:\n",
    "From a business perspective, this means that, statistically speaking, Mary's and Barry's price quotes are not significantly different. Therefore, any observed difference in their pricing may not be due to their performance or ability but could be attributed to chance. Businesses often use hypothesis testing to make informed decisions. In this case, you may conclude that there is no significant difference in the pricing strategies of Mary and Barry, and further actions, such as adjusting pricing strategies, might not be necessary based solely on the data you have.\n",
    "\n",
    "It's important to note that while the statistical test does not show a significant difference, there may still be practical or qualitative factors that could influence business decisions. You should consider the context and other relevant information when making business decisions."
   ]
  },
  {
   "cell_type": "code",
   "execution_count": null,
   "id": "a458a263",
   "metadata": {},
   "outputs": [],
   "source": []
  },
  {
   "cell_type": "markdown",
   "id": "769b0f7c",
   "metadata": {},
   "source": [
    "# BUSINESS PROBLEM 3: \n",
    "Determine what effect, if any, the reengineering effort had on the incidence behavioral problems and staff turnover. i.e To determine if the reengineering effort changed the critical incidence rate. Is there evidence that the critical incidence rate\n",
    "improved?\n"
   ]
  },
  {
   "cell_type": "code",
   "execution_count": 4,
   "id": "2e825a72",
   "metadata": {},
   "outputs": [],
   "source": [
    "facility = pd.read_csv(\"Treatment_Facility.csv\")"
   ]
  },
  {
   "cell_type": "code",
   "execution_count": 5,
   "id": "abff0ce1",
   "metadata": {},
   "outputs": [
    {
     "data": {
      "text/html": [
       "<div>\n",
       "<style scoped>\n",
       "    .dataframe tbody tr th:only-of-type {\n",
       "        vertical-align: middle;\n",
       "    }\n",
       "\n",
       "    .dataframe tbody tr th {\n",
       "        vertical-align: top;\n",
       "    }\n",
       "\n",
       "    .dataframe thead th {\n",
       "        text-align: right;\n",
       "    }\n",
       "</style>\n",
       "<table border=\"1\" class=\"dataframe\">\n",
       "  <thead>\n",
       "    <tr style=\"text-align: right;\">\n",
       "      <th></th>\n",
       "      <th>Month</th>\n",
       "      <th>Reengineer</th>\n",
       "      <th>Employee_Turnover</th>\n",
       "      <th>VAR4</th>\n",
       "      <th>VAR5</th>\n",
       "    </tr>\n",
       "  </thead>\n",
       "  <tbody>\n",
       "    <tr>\n",
       "      <th>0</th>\n",
       "      <td>1</td>\n",
       "      <td>Prior</td>\n",
       "      <td>0.0000</td>\n",
       "      <td>24.390244</td>\n",
       "      <td>42.682927</td>\n",
       "    </tr>\n",
       "    <tr>\n",
       "      <th>1</th>\n",
       "      <td>2</td>\n",
       "      <td>Prior</td>\n",
       "      <td>6.0606</td>\n",
       "      <td>19.354839</td>\n",
       "      <td>25.806452</td>\n",
       "    </tr>\n",
       "    <tr>\n",
       "      <th>2</th>\n",
       "      <td>3</td>\n",
       "      <td>Prior</td>\n",
       "      <td>12.1212</td>\n",
       "      <td>35.087719</td>\n",
       "      <td>146.198830</td>\n",
       "    </tr>\n",
       "    <tr>\n",
       "      <th>3</th>\n",
       "      <td>4</td>\n",
       "      <td>Prior</td>\n",
       "      <td>3.3333</td>\n",
       "      <td>18.404908</td>\n",
       "      <td>110.429448</td>\n",
       "    </tr>\n",
       "    <tr>\n",
       "      <th>4</th>\n",
       "      <td>5</td>\n",
       "      <td>Prior</td>\n",
       "      <td>12.9032</td>\n",
       "      <td>17.964072</td>\n",
       "      <td>23.952096</td>\n",
       "    </tr>\n",
       "  </tbody>\n",
       "</table>\n",
       "</div>"
      ],
      "text/plain": [
       "   Month Reengineer  Employee_Turnover       VAR4        VAR5\n",
       "0      1      Prior             0.0000  24.390244   42.682927\n",
       "1      2      Prior             6.0606  19.354839   25.806452\n",
       "2      3      Prior            12.1212  35.087719  146.198830\n",
       "3      4      Prior             3.3333  18.404908  110.429448\n",
       "4      5      Prior            12.9032  17.964072   23.952096"
      ]
     },
     "execution_count": 5,
     "metadata": {},
     "output_type": "execute_result"
    }
   ],
   "source": [
    "facility.head()"
   ]
  },
  {
   "cell_type": "code",
   "execution_count": 6,
   "id": "27d0d822",
   "metadata": {},
   "outputs": [
    {
     "name": "stdout",
     "output_type": "stream",
     "text": [
      "t-stat: 1.627914425352865 p_value: 0.12091989189884148\n"
     ]
    }
   ],
   "source": [
    "# Separate the data into 'Before' and 'After' reengineering\n",
    "before_reengineering = facility[facility['Reengineer'] == 'Prior']\n",
    "after_reengineering = facility[facility['Reengineer'] == 'Post']\n",
    "\n",
    "# Perform a t-test to compare the critical incident rates\n",
    "# Assuming 'CI (%)' is the column representing the critical incident rate\n",
    "critical_incident_before = before_reengineering['VAR5']\n",
    "critical_incident_after = after_reengineering['VAR5']\n",
    "\n",
    "# Perform a two-sample t-test\n",
    "t_stat, p_value = stats.ttest_ind(critical_incident_before, critical_incident_after)\n",
    "\n",
    "print('t-stat:', t_stat, 'p_value:', p_value)"
   ]
  },
  {
   "cell_type": "raw",
   "id": "775359bd",
   "metadata": {},
   "source": [
    "t-statistic (1.63): The t-statistic measures the difference between the means of the two groups (before and after reengineering) relative to the variability within each group. In this case, the t-statistic of 1.63 suggests that there is a moderate difference in the means of critical incident rates between the 'Before' and 'After' reengineering groups.\n",
    "\n",
    "p-value (0.121): The p-value is the probability of observing a t-statistic as extreme as the one calculated (1.63) if there were no real difference in critical incident rates between the two groups. A small p-value (typically below the chosen significance level) indicates stronger evidence against the null hypothesis.\n",
    "\n",
    "In this case, the p-value is 0.121, which is greater than the commonly chosen significance level of 0.05. This suggests that there is not enough evidence to reject the null hypothesis. In other words, the data does not provide strong statistical evidence that the critical incident rate improved after reengineering.\n",
    "Business Implications:\n",
    "\n",
    "Based on these results, we can infer the following for your business problem:\n",
    "\n",
    "No Strong Statistical Evidence: The statistical analysis does not provide strong evidence that the reengineering effort led to a significant improvement in the critical incident rate. The p-value is greater than the typical significance level (0.05), indicating that we cannot confidently say that the reengineering had a significant impact on reducing critical incidents."
   ]
  },
  {
   "cell_type": "code",
   "execution_count": null,
   "id": "f20acc1b",
   "metadata": {},
   "outputs": [],
   "source": []
  },
  {
   "cell_type": "markdown",
   "id": "8870e6e8",
   "metadata": {},
   "source": [
    "# BUSINESS PROBLEM 4: \n",
    "We will focus on the prioritization system. If the system is working, then high priority jobs, on average, should be completed more quickly than medium priority jobs, and medium priority jobs should be completed more quickly than low priority jobs. Use the data provided to determine whether thisis, in fact, occurring.\n"
   ]
  },
  {
   "cell_type": "code",
   "execution_count": 7,
   "id": "7912171d",
   "metadata": {},
   "outputs": [],
   "source": [
    "priority = pd.read_csv(\"Priority_Assessment.csv\")"
   ]
  },
  {
   "cell_type": "code",
   "execution_count": 9,
   "id": "d2cb4726",
   "metadata": {},
   "outputs": [
    {
     "name": "stdout",
     "output_type": "stream",
     "text": [
      "t-stat: 1.627914425352865 p_value: 0.16411459461716182\n"
     ]
    }
   ],
   "source": [
    "# Group the data by priority levels\n",
    "high_priority = priority[priority['Priority'] == 'High']['Days']\n",
    "medium_priority = priority[priority['Priority'] == 'Medium']['Days']\n",
    "low_priority = priority[priority['Priority'] == 'Low']['Days']\n",
    "\n",
    "# Perform ANOVA test\n",
    "f_statistic, p_value = stats.f_oneway(high_priority, medium_priority, low_priority)\n",
    "\n",
    "print('t-stat:', t_stat, 'p_value:', p_value)"
   ]
  },
  {
   "cell_type": "raw",
   "id": "7535c098",
   "metadata": {},
   "source": [
    " the p-value is 0.164, which is greater than the typical significance level of 0.05. This suggests that there is no strong evidence to reject the null hypothesis. In other words, the data does not provide strong statistical evidence of a significant difference in completion times between the priority levels.\n",
    " \n",
    "Lack of Strong Statistical Evidence: The statistical analysis does not provide strong evidence that high priority jobs are completed significantly faster than medium priority jobs, and medium priority jobs are completed significantly faster than low priority jobs."
   ]
  },
  {
   "cell_type": "code",
   "execution_count": 8,
   "id": "d3c31142",
   "metadata": {},
   "outputs": [
    {
     "data": {
      "text/html": [
       "<div>\n",
       "<style scoped>\n",
       "    .dataframe tbody tr th:only-of-type {\n",
       "        vertical-align: middle;\n",
       "    }\n",
       "\n",
       "    .dataframe tbody tr th {\n",
       "        vertical-align: top;\n",
       "    }\n",
       "\n",
       "    .dataframe thead th {\n",
       "        text-align: right;\n",
       "    }\n",
       "</style>\n",
       "<table border=\"1\" class=\"dataframe\">\n",
       "  <thead>\n",
       "    <tr style=\"text-align: right;\">\n",
       "      <th></th>\n",
       "      <th>Days</th>\n",
       "      <th>Priority</th>\n",
       "    </tr>\n",
       "  </thead>\n",
       "  <tbody>\n",
       "    <tr>\n",
       "      <th>0</th>\n",
       "      <td>3.3</td>\n",
       "      <td>High</td>\n",
       "    </tr>\n",
       "    <tr>\n",
       "      <th>1</th>\n",
       "      <td>7.9</td>\n",
       "      <td>Medium</td>\n",
       "    </tr>\n",
       "    <tr>\n",
       "      <th>2</th>\n",
       "      <td>0.3</td>\n",
       "      <td>High</td>\n",
       "    </tr>\n",
       "    <tr>\n",
       "      <th>3</th>\n",
       "      <td>0.7</td>\n",
       "      <td>Medium</td>\n",
       "    </tr>\n",
       "    <tr>\n",
       "      <th>4</th>\n",
       "      <td>8.6</td>\n",
       "      <td>Medium</td>\n",
       "    </tr>\n",
       "  </tbody>\n",
       "</table>\n",
       "</div>"
      ],
      "text/plain": [
       "   Days Priority\n",
       "0   3.3     High\n",
       "1   7.9   Medium\n",
       "2   0.3     High\n",
       "3   0.7   Medium\n",
       "4   8.6   Medium"
      ]
     },
     "execution_count": 8,
     "metadata": {},
     "output_type": "execute_result"
    }
   ],
   "source": [
    "priority.head()"
   ]
  },
  {
   "cell_type": "code",
   "execution_count": null,
   "id": "c7288aa4",
   "metadata": {},
   "outputs": [],
   "source": []
  },
  {
   "cell_type": "markdown",
   "id": "f25239ff",
   "metadata": {},
   "source": [
    "# BUSINESS PROBLEM 5: \n",
    "Use the survey results to address the following questions\n",
    " What is the overall level of customer satisfaction?\n",
    " What factors are linked to satisfaction?\n",
    " What is the demographic profile of Film on the Rocks patrons?\n",
    " In what media outlet(s) should the film series be advertised?"
   ]
  },
  {
   "cell_type": "code",
   "execution_count": 2,
   "id": "72f94df6",
   "metadata": {},
   "outputs": [],
   "source": [
    "films = pd.read_csv(\"Films.csv\")"
   ]
  },
  {
   "cell_type": "markdown",
   "id": "cf003066",
   "metadata": {},
   "source": [
    "# 1. Hypothesis Test for Overall Customer Satisfaction"
   ]
  },
  {
   "cell_type": "code",
   "execution_count": 5,
   "id": "e3f0ae53",
   "metadata": {},
   "outputs": [
    {
     "name": "stdout",
     "output_type": "stream",
     "text": [
      "t-stat: nan p_value: nan\n",
      "The overall customer satisfaction is not significantly different from the reference value.\n"
     ]
    },
    {
     "name": "stderr",
     "output_type": "stream",
     "text": [
      "C:\\Users\\bless\\AppData\\Local\\Temp\\ipykernel_8104\\109782601.py:10: RuntimeWarning: Precision loss occurred in moment calculation due to catastrophic cancellation. This occurs when the data are nearly identical. Results may be unreliable.\n",
      "  t_stat, p_value = ttest_ind(satisfaction_data, [reference_value] * len(satisfaction_data))\n"
     ]
    }
   ],
   "source": [
    "import pandas as pd\n",
    "from scipy.stats import ttest_ind, chi2_contingency\n",
    "import statsmodels.api as sm\n",
    "\n",
    "satisfaction_data = films[\"Overall\"]\n",
    "\n",
    "# Perform a t-test to check if the average satisfaction is significantly different from a reference value\n",
    "# For example, if 3 represents \"Average/Fair\" satisfaction, you can test if the average satisfaction is significantly different from this value\n",
    "reference_value = 3\n",
    "t_stat, p_value = ttest_ind(satisfaction_data, [reference_value] * len(satisfaction_data))\n",
    "\n",
    "print('t-stat:', t_stat, 'p_value:', p_value)\n",
    "\n",
    "if p_value < 0.05:\n",
    "    print(\"The overall customer satisfaction is significantly different from the reference value.\")\n",
    "else:\n",
    "    print(\"The overall customer satisfaction is not significantly different from the reference value.\")"
   ]
  },
  {
   "cell_type": "markdown",
   "id": "362d5bf2",
   "metadata": {},
   "source": [
    "# 2. Factors Linked to Satisfaction"
   ]
  },
  {
   "cell_type": "code",
   "execution_count": 11,
   "id": "924fcc5c",
   "metadata": {},
   "outputs": [
    {
     "name": "stdout",
     "output_type": "stream",
     "text": [
      "                            OLS Regression Results                            \n",
      "==============================================================================\n",
      "Dep. Variable:                Overall   R-squared:                       0.043\n",
      "Model:                            OLS   Adj. R-squared:                  0.010\n",
      "Method:                 Least Squares   F-statistic:                     1.306\n",
      "Date:                Wed, 01 Nov 2023   Prob (F-statistic):              0.219\n",
      "Time:                        22:39:53   Log-Likelihood:                -336.66\n",
      "No. Observations:                 330   AIC:                             697.3\n",
      "Df Residuals:                     318   BIC:                             742.9\n",
      "Df Model:                          11                                         \n",
      "Covariance Type:            nonrobust                                         \n",
      "==============================================================================\n",
      "                 coef    std err          t      P>|t|      [0.025      0.975]\n",
      "------------------------------------------------------------------------------\n",
      "const          1.3082      0.308      4.244      0.000       0.702       1.915\n",
      "Gender_1      -0.1897      0.502     -0.378      0.706      -1.178       0.798\n",
      "Gender_2      -0.2405      0.509     -0.472      0.637      -1.242       0.761\n",
      "Marital_1      0.1542      0.496      0.311      0.756      -0.822       1.130\n",
      "Marital_2      0.2118      0.490      0.432      0.666      -0.752       1.176\n",
      "Age           -0.0187      0.067     -0.277      0.782      -0.151       0.114\n",
      "Income         0.0363      0.051      0.719      0.473      -0.063       0.136\n",
      "Hear_1         0.5405      0.230      2.346      0.020       0.087       0.994\n",
      "Hear_2        -0.0629      0.265     -0.237      0.813      -0.585       0.459\n",
      "Hear_3        -0.0285      0.256     -0.111      0.911      -0.533       0.476\n",
      "Hear_4         0.3597      0.207      1.739      0.083      -0.047       0.767\n",
      "Hear_5         0.3462      0.184      1.885      0.060      -0.015       0.708\n",
      "==============================================================================\n",
      "Omnibus:                      122.093   Durbin-Watson:                   1.964\n",
      "Prob(Omnibus):                  0.000   Jarque-Bera (JB):              521.283\n",
      "Skew:                           1.538   Prob(JB):                    6.38e-114\n",
      "Kurtosis:                       8.333   Cond. No.                         89.5\n",
      "==============================================================================\n",
      "\n",
      "Notes:\n",
      "[1] Standard Errors assume that the covariance matrix of the errors is correctly specified.\n",
      "                            OLS Regression Results                            \n",
      "==============================================================================\n",
      "Dep. Variable:                Overall   R-squared:                       0.043\n",
      "Model:                            OLS   Adj. R-squared:                  0.010\n",
      "Method:                 Least Squares   F-statistic:                     1.306\n",
      "Date:                Wed, 01 Nov 2023   Prob (F-statistic):              0.219\n",
      "Time:                        22:39:53   Log-Likelihood:                -336.66\n",
      "No. Observations:                 330   AIC:                             697.3\n",
      "Df Residuals:                     318   BIC:                             742.9\n",
      "Df Model:                          11                                         \n",
      "Covariance Type:            nonrobust                                         \n",
      "==============================================================================\n",
      "                 coef    std err          t      P>|t|      [0.025      0.975]\n",
      "------------------------------------------------------------------------------\n",
      "const          1.3082      0.308      4.244      0.000       0.702       1.915\n",
      "Gender_1      -0.1897      0.502     -0.378      0.706      -1.178       0.798\n",
      "Gender_2      -0.2405      0.509     -0.472      0.637      -1.242       0.761\n",
      "Marital_1      0.1542      0.496      0.311      0.756      -0.822       1.130\n",
      "Marital_2      0.2118      0.490      0.432      0.666      -0.752       1.176\n",
      "Age           -0.0187      0.067     -0.277      0.782      -0.151       0.114\n",
      "Income         0.0363      0.051      0.719      0.473      -0.063       0.136\n",
      "Hear_1         0.5405      0.230      2.346      0.020       0.087       0.994\n",
      "Hear_2        -0.0629      0.265     -0.237      0.813      -0.585       0.459\n",
      "Hear_3        -0.0285      0.256     -0.111      0.911      -0.533       0.476\n",
      "Hear_4         0.3597      0.207      1.739      0.083      -0.047       0.767\n",
      "Hear_5         0.3462      0.184      1.885      0.060      -0.015       0.708\n",
      "==============================================================================\n",
      "Omnibus:                      122.093   Durbin-Watson:                   1.964\n",
      "Prob(Omnibus):                  0.000   Jarque-Bera (JB):              521.283\n",
      "Skew:                           1.538   Prob(JB):                    6.38e-114\n",
      "Kurtosis:                       8.333   Cond. No.                         89.5\n",
      "==============================================================================\n",
      "\n",
      "Notes:\n",
      "[1] Standard Errors assume that the covariance matrix of the errors is correctly specified.\n"
     ]
    },
    {
     "name": "stderr",
     "output_type": "stream",
     "text": [
      "C:\\Users\\bless\\AppData\\Local\\Temp\\ipykernel_8104\\1592304346.py:10: FutureWarning: The default value of numeric_only in DataFrame.mean is deprecated. In a future version, it will default to False. In addition, specifying 'numeric_only=None' is deprecated. Select only valid columns or specify the value of numeric_only to silence this warning.\n",
      "  data.fillna(data.mean(), inplace=True)\n"
     ]
    }
   ],
   "source": [
    "import pandas as pd\n",
    "import numpy as np\n",
    "from scipy.stats import ttest_ind\n",
    "import statsmodels.api as sm\n",
    "\n",
    "# Load your dataset\n",
    "data = pd.read_csv(\"films.csv\")  \n",
    "\n",
    "# Handle missing values by imputing with the mean\n",
    "data.fillna(data.mean(), inplace=True)\n",
    "\n",
    "# Convert non-numeric columns to numeric using one-hot encoding\n",
    "data = pd.get_dummies(data, columns=[\"Gender\", \"Marital_Status\", \"Hear_About\"], prefix=[\"Gender\", \"Marital\", \"Hear\"])\n",
    "\n",
    "# Define predictors and response variable\n",
    "X = data[[\"Gender_1\", \"Gender_2\", \"Marital_1\", \"Marital_2\", \"Age\", \"Income\", \"Hear_1\", \"Hear_2\", \"Hear_3\", \"Hear_4\", \"Hear_5\"]]\n",
    "X = sm.add_constant(X)  # Add a constant (intercept) term\n",
    "y = data[\"Overall\"]\n",
    "\n",
    "# Fit the OLS model\n",
    "model = sm.OLS(y, X).fit()\n",
    "print(model.summary())\n",
    "print(model.summary())"
   ]
  },
  {
   "cell_type": "code",
   "execution_count": 9,
   "id": "e9840c96",
   "metadata": {},
   "outputs": [
    {
     "data": {
      "text/plain": [
       "_rowstate_          int64\n",
       "Movie              object\n",
       "Gender             object\n",
       "Marital_Status     object\n",
       "Sinage            float64\n",
       "Parking           float64\n",
       "Clean             float64\n",
       "Overall           float64\n",
       "Age               float64\n",
       "Income            float64\n",
       "Hear_About         object\n",
       "dtype: object"
      ]
     },
     "execution_count": 9,
     "metadata": {},
     "output_type": "execute_result"
    }
   ],
   "source": [
    "films.dtypes"
   ]
  },
  {
   "cell_type": "raw",
   "id": "2a42d918",
   "metadata": {},
   "source": [
    "R-squared and Adjusted R-squared:\n",
    "\n",
    "R-squared (R²) measures the proportion of the variance in the dependent variable (customer satisfaction) that can be explained by the independent variables (Gender, Marital_Status, Age, Income, Hear_About). In your case, R² is 0.043, which is quite low.\n",
    "Adjusted R-squared (Adj. R²) adjusts R² for the number of predictors in the model. It's even lower at 0.010.\n",
    "Business Implication: This indicates that the independent variables in your model (Gender, Marital_Status, Age, Income, Hear_About) collectively explain only a small portion of the variance in customer satisfaction. In other words, these variables are not doing a good job of predicting customer satisfaction, and there are likely other unaccounted factors influencing satisfaction.\n",
    "F-statistic and Prob (F-statistic):\n",
    "\n",
    "The F-statistic tests the overall significance of your regression model. It checks whether your model as a whole is better at explaining the variance in the dependent variable than a model with no predictors.\n",
    "In your case, the F-statistic is 1.306, and the associated p-value (Prob (F-statistic)) is 0.219, which is relatively high.\n",
    "Business Implication: The F-statistic suggests that the overall model might not be statistically significant. The p-value being high implies that there is not strong evidence that your model is better than a null model with no predictors. This further supports the notion that the selected independent variables may not be very effective in explaining customer satisfaction.\n",
    "AIC and BIC:\n",
    "\n",
    "AIC (Akaike Information Criterion) and BIC (Bayesian Information Criterion) are measures of the model's goodness of fit, but they also account for model complexity.\n",
    "Lower values of AIC and BIC indicate a better fit. In your case, AIC is 697.3, and BIC is 742.9.\n",
    "\n",
    "Business Implication: While these values provide a measure of model fit, they should be compared to alternative models to determine if this model is the best choice. It's important to consider the trade-off between model fit and model complexity.\n",
    "In summary, the regression analysis suggests that the selected independent variables (Gender, Marital_Status, Age, Income, Hear_About) have limited explanatory power for customer satisfaction (the dependent variable). The low R-squared values and the high p-value of the F-statistic indicate that there may be other unaccounted factors or variables that significantly influence customer satisfaction. The business implication is that there is a need to explore additional or different factors that affect customer satisfaction and consider refining the model with more relevant predictors."
   ]
  },
  {
   "cell_type": "markdown",
   "id": "693e9b15",
   "metadata": {},
   "source": [
    "# 3 What is the demographic profile of Film on the Rocks patrons?"
   ]
  },
  {
   "cell_type": "code",
   "execution_count": 12,
   "id": "378c1b3d",
   "metadata": {},
   "outputs": [
    {
     "name": "stdout",
     "output_type": "stream",
     "text": [
      "Chi-squared statistic: 346.9614281894771\n",
      "P-value: 6.137384670436033e-67\n",
      "Degrees of freedom: 12\n",
      "Expected frequencies table:\n",
      "[[2.73658537e+01 6.46829268e+01 3.73170732e+00 5.59756098e+00\n",
      "  6.21951220e-01]\n",
      " [5.20487805e+01 1.23024390e+02 7.09756098e+00 1.06463415e+01\n",
      "  1.18292683e+00]\n",
      " [5.09756098e+00 1.20487805e+01 6.95121951e-01 1.04268293e+00\n",
      "  1.15853659e-01]\n",
      " [3.48780488e+00 8.24390244e+00 4.75609756e-01 7.13414634e-01\n",
      "  7.92682927e-02]]\n",
      "There is a significant association between Gender and Marital Status.\n"
     ]
    }
   ],
   "source": [
    "# Load your dataset\n",
    "data = pd.read_csv(\"films.csv\")  \n",
    "\n",
    "# Create a contingency table for the chi-squared test\n",
    "contingency_table = pd.crosstab(data[\"Gender\"], data[\"Marital_Status\"])\n",
    "\n",
    "# Perform the chi-squared test\n",
    "chi2, p, dof, expected = chi2_contingency(contingency_table)\n",
    "\n",
    "# Print the results\n",
    "print(\"Chi-squared statistic:\", chi2)\n",
    "print(\"P-value:\", p)\n",
    "print(\"Degrees of freedom:\", dof)\n",
    "print(\"Expected frequencies table:\")\n",
    "print(expected)\n",
    "\n",
    "# Interpret the results\n",
    "alpha = 0.05  # Set your significance level\n",
    "if p < alpha:\n",
    "    print(\"There is a significant association between Gender and Marital Status.\")\n",
    "else:\n",
    "    print(\"There is no significant association between Gender and Marital Status.\")"
   ]
  },
  {
   "cell_type": "raw",
   "id": "06c25a4e",
   "metadata": {},
   "source": [
    "Overall, the results indicate that there is a significant relationship between Gender and Marital_Status among Film on the Rocks patrons. This suggests that the choice of Marital_Status may not be independent of Gender, and there is an association between the two variables. The business implication of this result is that understanding this association can help tailor marketing and event strategies to different demographic groups, taking into account the potential influence of gender on marital status within the patron population."
   ]
  },
  {
   "cell_type": "markdown",
   "id": "b15bff14",
   "metadata": {},
   "source": [
    "# 4 In what media outlet(s) should the film series be advertised?"
   ]
  },
  {
   "cell_type": "code",
   "execution_count": 13,
   "id": "85c35603",
   "metadata": {},
   "outputs": [
    {
     "name": "stdout",
     "output_type": "stream",
     "text": [
      "Chi-squared statistic: 56.58986837509495\n",
      "P-value: 0.002334466843543831\n",
      "Degrees of freedom: 30\n",
      "Expected frequencies table:\n",
      "[[6.87925697e+00 1.29411765e+01 1.29411765e+00 8.85448916e-01]\n",
      " [3.12693498e-01 5.88235294e-01 5.88235294e-02 4.02476780e-02]\n",
      " [3.75232198e+00 7.05882353e+00 7.05882353e-01 4.82972136e-01]\n",
      " [6.25386997e-01 1.17647059e+00 1.17647059e-01 8.04953560e-02]\n",
      " [4.37770898e+00 8.23529412e+00 8.23529412e-01 5.63467492e-01]\n",
      " [6.25386997e-01 1.17647059e+00 1.17647059e-01 8.04953560e-02]\n",
      " [3.12693498e-01 5.88235294e-01 5.88235294e-02 4.02476780e-02]\n",
      " [1.28204334e+01 2.41176471e+01 2.41176471e+00 1.65015480e+00]\n",
      " [3.12693498e-01 5.88235294e-01 5.88235294e-02 4.02476780e-02]\n",
      " [7.06687307e+01 1.32941176e+02 1.32941176e+01 9.09597523e+00]\n",
      " [3.12693498e-01 5.88235294e-01 5.88235294e-02 4.02476780e-02]]\n",
      "There is a significant association between media outlets and gender.\n"
     ]
    }
   ],
   "source": [
    "# Load your dataset\n",
    "data = pd.read_csv(\"films.csv\")  \n",
    "\n",
    "# Create a contingency table for the chi-squared test\n",
    "contingency_table = pd.crosstab(data[\"Hear_About\"], data[\"Gender\"])\n",
    "\n",
    "# Perform the chi-squared test\n",
    "chi2, p, dof, expected = chi2_contingency(contingency_table)\n",
    "\n",
    "# Print the results\n",
    "print(\"Chi-squared statistic:\", chi2)\n",
    "print(\"P-value:\", p)\n",
    "print(\"Degrees of freedom:\", dof)\n",
    "print(\"Expected frequencies table:\")\n",
    "print(expected)\n",
    "\n",
    "# Interpret the results\n",
    "alpha = 0.05  # Set your significance level\n",
    "if p < alpha:\n",
    "    print(\"There is a significant association between media outlets and gender.\")\n",
    "else:\n",
    "    print(\"There is no significant association between media outlets and gender.\")"
   ]
  },
  {
   "cell_type": "raw",
   "id": "3a793fa2",
   "metadata": {},
   "source": [
    "Overall, the results indicate that there is a significant relationship between the choice of media outlet and the gender of Film on the Rocks patrons. This implies that different media outlets may be more effective in reaching specific gender demographics. Therefore, for advertising purposes, it's essential to tailor marketing strategies to target different media outlets based on the gender composition of the intended audience."
   ]
  },
  {
   "cell_type": "code",
   "execution_count": 3,
   "id": "1e002e51",
   "metadata": {},
   "outputs": [
    {
     "data": {
      "text/html": [
       "<div>\n",
       "<style scoped>\n",
       "    .dataframe tbody tr th:only-of-type {\n",
       "        vertical-align: middle;\n",
       "    }\n",
       "\n",
       "    .dataframe tbody tr th {\n",
       "        vertical-align: top;\n",
       "    }\n",
       "\n",
       "    .dataframe thead th {\n",
       "        text-align: right;\n",
       "    }\n",
       "</style>\n",
       "<table border=\"1\" class=\"dataframe\">\n",
       "  <thead>\n",
       "    <tr style=\"text-align: right;\">\n",
       "      <th></th>\n",
       "      <th>_rowstate_</th>\n",
       "      <th>Movie</th>\n",
       "      <th>Gender</th>\n",
       "      <th>Marital_Status</th>\n",
       "      <th>Sinage</th>\n",
       "      <th>Parking</th>\n",
       "      <th>Clean</th>\n",
       "      <th>Overall</th>\n",
       "      <th>Age</th>\n",
       "      <th>Income</th>\n",
       "      <th>Hear_About</th>\n",
       "    </tr>\n",
       "  </thead>\n",
       "  <tbody>\n",
       "    <tr>\n",
       "      <th>0</th>\n",
       "      <td>0</td>\n",
       "      <td>Ferris Buellers Day Off</td>\n",
       "      <td>Female</td>\n",
       "      <td>Married</td>\n",
       "      <td>2.0</td>\n",
       "      <td>2.0</td>\n",
       "      <td>2.0</td>\n",
       "      <td>2.0</td>\n",
       "      <td>3.0</td>\n",
       "      <td>1.0</td>\n",
       "      <td>5</td>\n",
       "    </tr>\n",
       "    <tr>\n",
       "      <th>1</th>\n",
       "      <td>0</td>\n",
       "      <td>Ferris Buellers Day Off</td>\n",
       "      <td>Female</td>\n",
       "      <td>Single</td>\n",
       "      <td>1.0</td>\n",
       "      <td>1.0</td>\n",
       "      <td>1.0</td>\n",
       "      <td>1.0</td>\n",
       "      <td>2.0</td>\n",
       "      <td>1.0</td>\n",
       "      <td>5</td>\n",
       "    </tr>\n",
       "    <tr>\n",
       "      <th>2</th>\n",
       "      <td>0</td>\n",
       "      <td>Ferris Buellers Day Off</td>\n",
       "      <td>Male</td>\n",
       "      <td>Married</td>\n",
       "      <td>2.0</td>\n",
       "      <td>4.0</td>\n",
       "      <td>3.0</td>\n",
       "      <td>2.0</td>\n",
       "      <td>4.0</td>\n",
       "      <td>1.0</td>\n",
       "      <td>5</td>\n",
       "    </tr>\n",
       "    <tr>\n",
       "      <th>3</th>\n",
       "      <td>0</td>\n",
       "      <td>Ferris Buellers Day Off</td>\n",
       "      <td>Female</td>\n",
       "      <td>Married</td>\n",
       "      <td>1.0</td>\n",
       "      <td>3.0</td>\n",
       "      <td>2.0</td>\n",
       "      <td>2.0</td>\n",
       "      <td>4.0</td>\n",
       "      <td>1.0</td>\n",
       "      <td>5</td>\n",
       "    </tr>\n",
       "    <tr>\n",
       "      <th>4</th>\n",
       "      <td>0</td>\n",
       "      <td>Ferris Buellers Day Off</td>\n",
       "      <td>Female</td>\n",
       "      <td>Married</td>\n",
       "      <td>1.0</td>\n",
       "      <td>1.0</td>\n",
       "      <td>1.0</td>\n",
       "      <td>1.0</td>\n",
       "      <td>3.0</td>\n",
       "      <td>3.0</td>\n",
       "      <td>1</td>\n",
       "    </tr>\n",
       "  </tbody>\n",
       "</table>\n",
       "</div>"
      ],
      "text/plain": [
       "   _rowstate_                    Movie  Gender Marital_Status  Sinage  \\\n",
       "0           0  Ferris Buellers Day Off  Female        Married     2.0   \n",
       "1           0  Ferris Buellers Day Off  Female         Single     1.0   \n",
       "2           0  Ferris Buellers Day Off    Male        Married     2.0   \n",
       "3           0  Ferris Buellers Day Off  Female        Married     1.0   \n",
       "4           0  Ferris Buellers Day Off  Female        Married     1.0   \n",
       "\n",
       "   Parking  Clean  Overall  Age  Income Hear_About  \n",
       "0      2.0    2.0      2.0  3.0     1.0          5  \n",
       "1      1.0    1.0      1.0  2.0     1.0          5  \n",
       "2      4.0    3.0      2.0  4.0     1.0          5  \n",
       "3      3.0    2.0      2.0  4.0     1.0          5  \n",
       "4      1.0    1.0      1.0  3.0     3.0          1  "
      ]
     },
     "execution_count": 3,
     "metadata": {},
     "output_type": "execute_result"
    }
   ],
   "source": [
    "films.head()"
   ]
  }
 ],
 "metadata": {
  "kernelspec": {
   "display_name": "Python 3 (ipykernel)",
   "language": "python",
   "name": "python3"
  },
  "language_info": {
   "codemirror_mode": {
    "name": "ipython",
    "version": 3
   },
   "file_extension": ".py",
   "mimetype": "text/x-python",
   "name": "python",
   "nbconvert_exporter": "python",
   "pygments_lexer": "ipython3",
   "version": "3.11.4"
  }
 },
 "nbformat": 4,
 "nbformat_minor": 5
}
