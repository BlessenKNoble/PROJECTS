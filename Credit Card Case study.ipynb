{
 "cells": [
  {
   "cell_type": "code",
   "execution_count": 1,
   "id": "601e7d7d",
   "metadata": {},
   "outputs": [],
   "source": [
    "# Importing the packages\n",
    "import pandas as pd\n",
    "import numpy as np\n",
    "\n",
    "# Importing visualization packages\n",
    "import matplotlib.pyplot as plt\n",
    "%matplotlib inline\n",
    "import seaborn as sns"
   ]
  },
  {
   "cell_type": "code",
   "execution_count": 2,
   "id": "36934028",
   "metadata": {},
   "outputs": [],
   "source": [
    "acq = pd.read_csv(r\"C:\\Users\\bless\\OneDrive\\Desktop\\Data Science\\Python\\Case Studies\\Python Foundation Case Study 2 - Credit Card Case Study\\Case Study 2 - Credit Card Case Study\\Customer Acqusition.csv\")"
   ]
  },
  {
   "cell_type": "code",
   "execution_count": 3,
   "id": "ac3dee97",
   "metadata": {},
   "outputs": [],
   "source": [
    "rep = pd.read_csv(r\"C:\\Users\\bless\\OneDrive\\Desktop\\Data Science\\Python\\Case Studies\\Python Foundation Case Study 2 - Credit Card Case Study\\Case Study 2 - Credit Card Case Study\\Repayment.csv\")"
   ]
  },
  {
   "cell_type": "code",
   "execution_count": 4,
   "id": "b912363a",
   "metadata": {},
   "outputs": [],
   "source": [
    "spend = pd.read_csv(r\"C:\\Users\\bless\\OneDrive\\Desktop\\Data Science\\Python\\Case Studies\\Python Foundation Case Study 2 - Credit Card Case Study\\Case Study 2 - Credit Card Case Study\\spend.csv\")"
   ]
  },
  {
   "cell_type": "code",
   "execution_count": 5,
   "id": "e5675e06",
   "metadata": {},
   "outputs": [
    {
     "data": {
      "text/html": [
       "<div>\n",
       "<style scoped>\n",
       "    .dataframe tbody tr th:only-of-type {\n",
       "        vertical-align: middle;\n",
       "    }\n",
       "\n",
       "    .dataframe tbody tr th {\n",
       "        vertical-align: top;\n",
       "    }\n",
       "\n",
       "    .dataframe thead th {\n",
       "        text-align: right;\n",
       "    }\n",
       "</style>\n",
       "<table border=\"1\" class=\"dataframe\">\n",
       "  <thead>\n",
       "    <tr style=\"text-align: right;\">\n",
       "      <th></th>\n",
       "      <th>No</th>\n",
       "      <th>Customer</th>\n",
       "      <th>Age</th>\n",
       "      <th>City</th>\n",
       "      <th>Product</th>\n",
       "      <th>Limit</th>\n",
       "      <th>Company</th>\n",
       "      <th>Segment</th>\n",
       "    </tr>\n",
       "  </thead>\n",
       "  <tbody>\n",
       "    <tr>\n",
       "      <th>0</th>\n",
       "      <td>1</td>\n",
       "      <td>A1</td>\n",
       "      <td>76</td>\n",
       "      <td>BANGALORE</td>\n",
       "      <td>Gold</td>\n",
       "      <td>500000.0</td>\n",
       "      <td>C1</td>\n",
       "      <td>Self Employed</td>\n",
       "    </tr>\n",
       "    <tr>\n",
       "      <th>1</th>\n",
       "      <td>2</td>\n",
       "      <td>A2</td>\n",
       "      <td>71</td>\n",
       "      <td>CALCUTTA</td>\n",
       "      <td>Silver</td>\n",
       "      <td>100000.0</td>\n",
       "      <td>C2</td>\n",
       "      <td>Salaried_MNC</td>\n",
       "    </tr>\n",
       "    <tr>\n",
       "      <th>2</th>\n",
       "      <td>3</td>\n",
       "      <td>A3</td>\n",
       "      <td>34</td>\n",
       "      <td>COCHIN</td>\n",
       "      <td>Platimum</td>\n",
       "      <td>10000.0</td>\n",
       "      <td>C3</td>\n",
       "      <td>Salaried_Pvt</td>\n",
       "    </tr>\n",
       "    <tr>\n",
       "      <th>3</th>\n",
       "      <td>4</td>\n",
       "      <td>A4</td>\n",
       "      <td>47</td>\n",
       "      <td>BOMBAY</td>\n",
       "      <td>Platimum</td>\n",
       "      <td>10001.0</td>\n",
       "      <td>C4</td>\n",
       "      <td>Govt</td>\n",
       "    </tr>\n",
       "    <tr>\n",
       "      <th>4</th>\n",
       "      <td>5</td>\n",
       "      <td>A5</td>\n",
       "      <td>56</td>\n",
       "      <td>BANGALORE</td>\n",
       "      <td>Platimum</td>\n",
       "      <td>10002.0</td>\n",
       "      <td>C5</td>\n",
       "      <td>Normal Salary</td>\n",
       "    </tr>\n",
       "  </tbody>\n",
       "</table>\n",
       "</div>"
      ],
      "text/plain": [
       "   No Customer  Age       City   Product     Limit Company        Segment\n",
       "0   1       A1   76  BANGALORE      Gold  500000.0      C1  Self Employed\n",
       "1   2       A2   71   CALCUTTA    Silver  100000.0      C2   Salaried_MNC\n",
       "2   3       A3   34     COCHIN  Platimum   10000.0      C3   Salaried_Pvt\n",
       "3   4       A4   47     BOMBAY  Platimum   10001.0      C4           Govt\n",
       "4   5       A5   56  BANGALORE  Platimum   10002.0      C5  Normal Salary"
      ]
     },
     "execution_count": 5,
     "metadata": {},
     "output_type": "execute_result"
    }
   ],
   "source": [
    "acq.head()"
   ]
  },
  {
   "cell_type": "code",
   "execution_count": 6,
   "id": "4493ca4b",
   "metadata": {},
   "outputs": [
    {
     "data": {
      "text/html": [
       "<div>\n",
       "<style scoped>\n",
       "    .dataframe tbody tr th:only-of-type {\n",
       "        vertical-align: middle;\n",
       "    }\n",
       "\n",
       "    .dataframe tbody tr th {\n",
       "        vertical-align: top;\n",
       "    }\n",
       "\n",
       "    .dataframe thead th {\n",
       "        text-align: right;\n",
       "    }\n",
       "</style>\n",
       "<table border=\"1\" class=\"dataframe\">\n",
       "  <thead>\n",
       "    <tr style=\"text-align: right;\">\n",
       "      <th></th>\n",
       "      <th>SL No:</th>\n",
       "      <th>Customer</th>\n",
       "      <th>Month</th>\n",
       "      <th>Amount</th>\n",
       "      <th>Unnamed: 4</th>\n",
       "    </tr>\n",
       "  </thead>\n",
       "  <tbody>\n",
       "    <tr>\n",
       "      <th>0</th>\n",
       "      <td>NaN</td>\n",
       "      <td>A1</td>\n",
       "      <td>12-Jan-04</td>\n",
       "      <td>495414.75</td>\n",
       "      <td>NaN</td>\n",
       "    </tr>\n",
       "    <tr>\n",
       "      <th>1</th>\n",
       "      <td>2.0</td>\n",
       "      <td>A1</td>\n",
       "      <td>3-Jan-04</td>\n",
       "      <td>245899.02</td>\n",
       "      <td>NaN</td>\n",
       "    </tr>\n",
       "    <tr>\n",
       "      <th>2</th>\n",
       "      <td>3.0</td>\n",
       "      <td>A1</td>\n",
       "      <td>15-Jan-04</td>\n",
       "      <td>259490.06</td>\n",
       "      <td>NaN</td>\n",
       "    </tr>\n",
       "    <tr>\n",
       "      <th>3</th>\n",
       "      <td>4.0</td>\n",
       "      <td>A1</td>\n",
       "      <td>25-Jan-04</td>\n",
       "      <td>437555.12</td>\n",
       "      <td>NaN</td>\n",
       "    </tr>\n",
       "    <tr>\n",
       "      <th>4</th>\n",
       "      <td>5.0</td>\n",
       "      <td>A1</td>\n",
       "      <td>17-Jan-05</td>\n",
       "      <td>165972.88</td>\n",
       "      <td>NaN</td>\n",
       "    </tr>\n",
       "  </tbody>\n",
       "</table>\n",
       "</div>"
      ],
      "text/plain": [
       "   SL No: Customer      Month     Amount  Unnamed: 4\n",
       "0     NaN       A1  12-Jan-04  495414.75         NaN\n",
       "1     2.0       A1   3-Jan-04  245899.02         NaN\n",
       "2     3.0       A1  15-Jan-04  259490.06         NaN\n",
       "3     4.0       A1  25-Jan-04  437555.12         NaN\n",
       "4     5.0       A1  17-Jan-05  165972.88         NaN"
      ]
     },
     "execution_count": 6,
     "metadata": {},
     "output_type": "execute_result"
    }
   ],
   "source": [
    "rep.head()"
   ]
  },
  {
   "cell_type": "code",
   "execution_count": 7,
   "id": "72051419",
   "metadata": {},
   "outputs": [
    {
     "data": {
      "text/html": [
       "<div>\n",
       "<style scoped>\n",
       "    .dataframe tbody tr th:only-of-type {\n",
       "        vertical-align: middle;\n",
       "    }\n",
       "\n",
       "    .dataframe tbody tr th {\n",
       "        vertical-align: top;\n",
       "    }\n",
       "\n",
       "    .dataframe thead th {\n",
       "        text-align: right;\n",
       "    }\n",
       "</style>\n",
       "<table border=\"1\" class=\"dataframe\">\n",
       "  <thead>\n",
       "    <tr style=\"text-align: right;\">\n",
       "      <th></th>\n",
       "      <th>Sl No:</th>\n",
       "      <th>Customer</th>\n",
       "      <th>Month</th>\n",
       "      <th>Type</th>\n",
       "      <th>Amount</th>\n",
       "    </tr>\n",
       "  </thead>\n",
       "  <tbody>\n",
       "    <tr>\n",
       "      <th>0</th>\n",
       "      <td>1</td>\n",
       "      <td>A1</td>\n",
       "      <td>12-Jan-04</td>\n",
       "      <td>JEWELLERY</td>\n",
       "      <td>485470.80</td>\n",
       "    </tr>\n",
       "    <tr>\n",
       "      <th>1</th>\n",
       "      <td>2</td>\n",
       "      <td>A1</td>\n",
       "      <td>3-Jan-04</td>\n",
       "      <td>PETRO</td>\n",
       "      <td>410556.13</td>\n",
       "    </tr>\n",
       "    <tr>\n",
       "      <th>2</th>\n",
       "      <td>3</td>\n",
       "      <td>A1</td>\n",
       "      <td>15-Jan-04</td>\n",
       "      <td>CLOTHES</td>\n",
       "      <td>23740.46</td>\n",
       "    </tr>\n",
       "    <tr>\n",
       "      <th>3</th>\n",
       "      <td>4</td>\n",
       "      <td>A1</td>\n",
       "      <td>25-Jan-04</td>\n",
       "      <td>FOOD</td>\n",
       "      <td>484342.47</td>\n",
       "    </tr>\n",
       "    <tr>\n",
       "      <th>4</th>\n",
       "      <td>5</td>\n",
       "      <td>A1</td>\n",
       "      <td>17-Jan-05</td>\n",
       "      <td>CAMERA</td>\n",
       "      <td>369694.07</td>\n",
       "    </tr>\n",
       "  </tbody>\n",
       "</table>\n",
       "</div>"
      ],
      "text/plain": [
       "   Sl No: Customer      Month       Type     Amount\n",
       "0       1       A1  12-Jan-04  JEWELLERY  485470.80\n",
       "1       2       A1   3-Jan-04      PETRO  410556.13\n",
       "2       3       A1  15-Jan-04    CLOTHES   23740.46\n",
       "3       4       A1  25-Jan-04       FOOD  484342.47\n",
       "4       5       A1  17-Jan-05     CAMERA  369694.07"
      ]
     },
     "execution_count": 7,
     "metadata": {},
     "output_type": "execute_result"
    }
   ],
   "source": [
    "spend.head()"
   ]
  },
  {
   "cell_type": "code",
   "execution_count": 8,
   "id": "0c5ef5c6",
   "metadata": {},
   "outputs": [],
   "source": [
    "merged_df = pd.merge(acq, rep, left_on='Customer', right_on='Customer', how='outer')"
   ]
  },
  {
   "cell_type": "code",
   "execution_count": 9,
   "id": "68e462e4",
   "metadata": {},
   "outputs": [
    {
     "data": {
      "text/html": [
       "<div>\n",
       "<style scoped>\n",
       "    .dataframe tbody tr th:only-of-type {\n",
       "        vertical-align: middle;\n",
       "    }\n",
       "\n",
       "    .dataframe tbody tr th {\n",
       "        vertical-align: top;\n",
       "    }\n",
       "\n",
       "    .dataframe thead th {\n",
       "        text-align: right;\n",
       "    }\n",
       "</style>\n",
       "<table border=\"1\" class=\"dataframe\">\n",
       "  <thead>\n",
       "    <tr style=\"text-align: right;\">\n",
       "      <th></th>\n",
       "      <th>No</th>\n",
       "      <th>Customer</th>\n",
       "      <th>Age</th>\n",
       "      <th>City</th>\n",
       "      <th>Product</th>\n",
       "      <th>Limit</th>\n",
       "      <th>Company</th>\n",
       "      <th>Segment</th>\n",
       "      <th>SL No:</th>\n",
       "      <th>Month</th>\n",
       "      <th>Amount</th>\n",
       "      <th>Unnamed: 4</th>\n",
       "    </tr>\n",
       "  </thead>\n",
       "  <tbody>\n",
       "    <tr>\n",
       "      <th>0</th>\n",
       "      <td>1.0</td>\n",
       "      <td>A1</td>\n",
       "      <td>76.0</td>\n",
       "      <td>BANGALORE</td>\n",
       "      <td>Gold</td>\n",
       "      <td>500000.0</td>\n",
       "      <td>C1</td>\n",
       "      <td>Self Employed</td>\n",
       "      <td>NaN</td>\n",
       "      <td>12-Jan-04</td>\n",
       "      <td>495414.75</td>\n",
       "      <td>NaN</td>\n",
       "    </tr>\n",
       "    <tr>\n",
       "      <th>1</th>\n",
       "      <td>1.0</td>\n",
       "      <td>A1</td>\n",
       "      <td>76.0</td>\n",
       "      <td>BANGALORE</td>\n",
       "      <td>Gold</td>\n",
       "      <td>500000.0</td>\n",
       "      <td>C1</td>\n",
       "      <td>Self Employed</td>\n",
       "      <td>2.0</td>\n",
       "      <td>3-Jan-04</td>\n",
       "      <td>245899.02</td>\n",
       "      <td>NaN</td>\n",
       "    </tr>\n",
       "    <tr>\n",
       "      <th>2</th>\n",
       "      <td>1.0</td>\n",
       "      <td>A1</td>\n",
       "      <td>76.0</td>\n",
       "      <td>BANGALORE</td>\n",
       "      <td>Gold</td>\n",
       "      <td>500000.0</td>\n",
       "      <td>C1</td>\n",
       "      <td>Self Employed</td>\n",
       "      <td>3.0</td>\n",
       "      <td>15-Jan-04</td>\n",
       "      <td>259490.06</td>\n",
       "      <td>NaN</td>\n",
       "    </tr>\n",
       "    <tr>\n",
       "      <th>3</th>\n",
       "      <td>1.0</td>\n",
       "      <td>A1</td>\n",
       "      <td>76.0</td>\n",
       "      <td>BANGALORE</td>\n",
       "      <td>Gold</td>\n",
       "      <td>500000.0</td>\n",
       "      <td>C1</td>\n",
       "      <td>Self Employed</td>\n",
       "      <td>4.0</td>\n",
       "      <td>25-Jan-04</td>\n",
       "      <td>437555.12</td>\n",
       "      <td>NaN</td>\n",
       "    </tr>\n",
       "    <tr>\n",
       "      <th>4</th>\n",
       "      <td>1.0</td>\n",
       "      <td>A1</td>\n",
       "      <td>76.0</td>\n",
       "      <td>BANGALORE</td>\n",
       "      <td>Gold</td>\n",
       "      <td>500000.0</td>\n",
       "      <td>C1</td>\n",
       "      <td>Self Employed</td>\n",
       "      <td>5.0</td>\n",
       "      <td>17-Jan-05</td>\n",
       "      <td>165972.88</td>\n",
       "      <td>NaN</td>\n",
       "    </tr>\n",
       "  </tbody>\n",
       "</table>\n",
       "</div>"
      ],
      "text/plain": [
       "    No Customer   Age       City Product     Limit Company        Segment  \\\n",
       "0  1.0       A1  76.0  BANGALORE    Gold  500000.0      C1  Self Employed   \n",
       "1  1.0       A1  76.0  BANGALORE    Gold  500000.0      C1  Self Employed   \n",
       "2  1.0       A1  76.0  BANGALORE    Gold  500000.0      C1  Self Employed   \n",
       "3  1.0       A1  76.0  BANGALORE    Gold  500000.0      C1  Self Employed   \n",
       "4  1.0       A1  76.0  BANGALORE    Gold  500000.0      C1  Self Employed   \n",
       "\n",
       "   SL No:      Month     Amount  Unnamed: 4  \n",
       "0     NaN  12-Jan-04  495414.75         NaN  \n",
       "1     2.0   3-Jan-04  245899.02         NaN  \n",
       "2     3.0  15-Jan-04  259490.06         NaN  \n",
       "3     4.0  25-Jan-04  437555.12         NaN  \n",
       "4     5.0  17-Jan-05  165972.88         NaN  "
      ]
     },
     "execution_count": 9,
     "metadata": {},
     "output_type": "execute_result"
    }
   ],
   "source": [
    "merged_df.head()"
   ]
  },
  {
   "cell_type": "code",
   "execution_count": 10,
   "id": "57adca2e",
   "metadata": {},
   "outputs": [],
   "source": [
    "final = pd.merge(merged_df, spend, left_on='Customer', right_on='Customer', how='outer')"
   ]
  },
  {
   "cell_type": "markdown",
   "id": "49f799ce",
   "metadata": {},
   "source": [
    "# 1a. In case age is less than 18, replace it with mean of age values."
   ]
  },
  {
   "cell_type": "code",
   "execution_count": 11,
   "id": "c0d2f483",
   "metadata": {},
   "outputs": [],
   "source": [
    "\n",
    "# Calculate the mean of non-missing age values\n",
    "mean_age = final[final['Age'] >= 18]['Age'].mean()\n",
    "\n",
    "# Replace age values less than 18 with the calculated mean\n",
    "final['Age'] = final['Age'].apply(lambda age: mean_age if age < 18 else age)"
   ]
  },
  {
   "cell_type": "markdown",
   "id": "4dd9db3e",
   "metadata": {},
   "source": [
    "# b. In case spend amount is more than the limit, replace it with 50% of that customer’s limit. \n",
    "# (customer’s limit provided in acquisition table is the per transaction limit on his card)"
   ]
  },
  {
   "cell_type": "code",
   "execution_count": 12,
   "id": "6af3a34c",
   "metadata": {},
   "outputs": [],
   "source": [
    "# Define a custom function to replace spend amounts\n",
    "def replace_spend_amount(row):\n",
    "    if row['Amount_y'] > row['Limit']:\n",
    "        return 0.5 * row['Limit']\n",
    "    else:\n",
    "        return row['Amount_y']\n",
    "\n",
    "# Apply the custom function to the 'Amount_y' column\n",
    "final['Amount_y'] = final.apply(replace_spend_amount, axis=1)"
   ]
  },
  {
   "cell_type": "code",
   "execution_count": 13,
   "id": "b2a99f0a",
   "metadata": {},
   "outputs": [
    {
     "data": {
      "text/html": [
       "<div>\n",
       "<style scoped>\n",
       "    .dataframe tbody tr th:only-of-type {\n",
       "        vertical-align: middle;\n",
       "    }\n",
       "\n",
       "    .dataframe tbody tr th {\n",
       "        vertical-align: top;\n",
       "    }\n",
       "\n",
       "    .dataframe thead th {\n",
       "        text-align: right;\n",
       "    }\n",
       "</style>\n",
       "<table border=\"1\" class=\"dataframe\">\n",
       "  <thead>\n",
       "    <tr style=\"text-align: right;\">\n",
       "      <th></th>\n",
       "      <th>No</th>\n",
       "      <th>Customer</th>\n",
       "      <th>Age</th>\n",
       "      <th>City</th>\n",
       "      <th>Product</th>\n",
       "      <th>Limit</th>\n",
       "      <th>Company</th>\n",
       "      <th>Segment</th>\n",
       "      <th>SL No:</th>\n",
       "      <th>Month_x</th>\n",
       "      <th>Amount_x</th>\n",
       "      <th>Unnamed: 4</th>\n",
       "      <th>Sl No:</th>\n",
       "      <th>Month_y</th>\n",
       "      <th>Type</th>\n",
       "      <th>Amount_y</th>\n",
       "    </tr>\n",
       "  </thead>\n",
       "  <tbody>\n",
       "    <tr>\n",
       "      <th>0</th>\n",
       "      <td>1.0</td>\n",
       "      <td>A1</td>\n",
       "      <td>76.0</td>\n",
       "      <td>BANGALORE</td>\n",
       "      <td>Gold</td>\n",
       "      <td>500000.0</td>\n",
       "      <td>C1</td>\n",
       "      <td>Self Employed</td>\n",
       "      <td>NaN</td>\n",
       "      <td>12-Jan-04</td>\n",
       "      <td>495414.75</td>\n",
       "      <td>NaN</td>\n",
       "      <td>1.0</td>\n",
       "      <td>12-Jan-04</td>\n",
       "      <td>JEWELLERY</td>\n",
       "      <td>485470.80</td>\n",
       "    </tr>\n",
       "    <tr>\n",
       "      <th>1</th>\n",
       "      <td>1.0</td>\n",
       "      <td>A1</td>\n",
       "      <td>76.0</td>\n",
       "      <td>BANGALORE</td>\n",
       "      <td>Gold</td>\n",
       "      <td>500000.0</td>\n",
       "      <td>C1</td>\n",
       "      <td>Self Employed</td>\n",
       "      <td>NaN</td>\n",
       "      <td>12-Jan-04</td>\n",
       "      <td>495414.75</td>\n",
       "      <td>NaN</td>\n",
       "      <td>2.0</td>\n",
       "      <td>3-Jan-04</td>\n",
       "      <td>PETRO</td>\n",
       "      <td>410556.13</td>\n",
       "    </tr>\n",
       "    <tr>\n",
       "      <th>2</th>\n",
       "      <td>1.0</td>\n",
       "      <td>A1</td>\n",
       "      <td>76.0</td>\n",
       "      <td>BANGALORE</td>\n",
       "      <td>Gold</td>\n",
       "      <td>500000.0</td>\n",
       "      <td>C1</td>\n",
       "      <td>Self Employed</td>\n",
       "      <td>NaN</td>\n",
       "      <td>12-Jan-04</td>\n",
       "      <td>495414.75</td>\n",
       "      <td>NaN</td>\n",
       "      <td>3.0</td>\n",
       "      <td>15-Jan-04</td>\n",
       "      <td>CLOTHES</td>\n",
       "      <td>23740.46</td>\n",
       "    </tr>\n",
       "    <tr>\n",
       "      <th>3</th>\n",
       "      <td>1.0</td>\n",
       "      <td>A1</td>\n",
       "      <td>76.0</td>\n",
       "      <td>BANGALORE</td>\n",
       "      <td>Gold</td>\n",
       "      <td>500000.0</td>\n",
       "      <td>C1</td>\n",
       "      <td>Self Employed</td>\n",
       "      <td>NaN</td>\n",
       "      <td>12-Jan-04</td>\n",
       "      <td>495414.75</td>\n",
       "      <td>NaN</td>\n",
       "      <td>4.0</td>\n",
       "      <td>25-Jan-04</td>\n",
       "      <td>FOOD</td>\n",
       "      <td>484342.47</td>\n",
       "    </tr>\n",
       "    <tr>\n",
       "      <th>4</th>\n",
       "      <td>1.0</td>\n",
       "      <td>A1</td>\n",
       "      <td>76.0</td>\n",
       "      <td>BANGALORE</td>\n",
       "      <td>Gold</td>\n",
       "      <td>500000.0</td>\n",
       "      <td>C1</td>\n",
       "      <td>Self Employed</td>\n",
       "      <td>NaN</td>\n",
       "      <td>12-Jan-04</td>\n",
       "      <td>495414.75</td>\n",
       "      <td>NaN</td>\n",
       "      <td>5.0</td>\n",
       "      <td>17-Jan-05</td>\n",
       "      <td>CAMERA</td>\n",
       "      <td>369694.07</td>\n",
       "    </tr>\n",
       "  </tbody>\n",
       "</table>\n",
       "</div>"
      ],
      "text/plain": [
       "    No Customer   Age       City Product     Limit Company        Segment  \\\n",
       "0  1.0       A1  76.0  BANGALORE    Gold  500000.0      C1  Self Employed   \n",
       "1  1.0       A1  76.0  BANGALORE    Gold  500000.0      C1  Self Employed   \n",
       "2  1.0       A1  76.0  BANGALORE    Gold  500000.0      C1  Self Employed   \n",
       "3  1.0       A1  76.0  BANGALORE    Gold  500000.0      C1  Self Employed   \n",
       "4  1.0       A1  76.0  BANGALORE    Gold  500000.0      C1  Self Employed   \n",
       "\n",
       "   SL No:    Month_x   Amount_x  Unnamed: 4  Sl No:    Month_y       Type  \\\n",
       "0     NaN  12-Jan-04  495414.75         NaN     1.0  12-Jan-04  JEWELLERY   \n",
       "1     NaN  12-Jan-04  495414.75         NaN     2.0   3-Jan-04      PETRO   \n",
       "2     NaN  12-Jan-04  495414.75         NaN     3.0  15-Jan-04    CLOTHES   \n",
       "3     NaN  12-Jan-04  495414.75         NaN     4.0  25-Jan-04       FOOD   \n",
       "4     NaN  12-Jan-04  495414.75         NaN     5.0  17-Jan-05     CAMERA   \n",
       "\n",
       "    Amount_y  \n",
       "0  485470.80  \n",
       "1  410556.13  \n",
       "2   23740.46  \n",
       "3  484342.47  \n",
       "4  369694.07  "
      ]
     },
     "execution_count": 13,
     "metadata": {},
     "output_type": "execute_result"
    }
   ],
   "source": [
    "final.head()"
   ]
  },
  {
   "cell_type": "code",
   "execution_count": 14,
   "id": "26513692",
   "metadata": {},
   "outputs": [],
   "source": [
    "# c. Incase the repayment amount is more than the limit, replace the repayment with the limit.\n",
    "\n",
    "def replace_repayment_amount(row):\n",
    "    if row['Amount_x'] > row['Limit']:\n",
    "        return row['Limit']\n",
    "    else:\n",
    "        return row['Amount_x']\n",
    "    \n",
    "# Apply the custom function to the 'Amount_x' column\n",
    "final['Amount_x'] = final.apply(replace_repayment_amount, axis=1)\n"
   ]
  },
  {
   "cell_type": "code",
   "execution_count": 15,
   "id": "600aa444",
   "metadata": {},
   "outputs": [
    {
     "name": "stdout",
     "output_type": "stream",
     "text": [
      "Number of distinct customers: 100\n"
     ]
    }
   ],
   "source": [
    "# 2. From the above dataset create the following summaries:\n",
    "# a. How many distinct customers exist?\n",
    "\n",
    "distinct_customers = final['Customer'].nunique()\n",
    "print(f\"Number of distinct customers: {distinct_customers}\")"
   ]
  },
  {
   "cell_type": "code",
   "execution_count": 16,
   "id": "0ae304a0",
   "metadata": {},
   "outputs": [
    {
     "name": "stdout",
     "output_type": "stream",
     "text": [
      "Number of distinct categories: 15\n"
     ]
    }
   ],
   "source": [
    "#  b. How many distinct categories exist?\n",
    "\n",
    "distinct_categories = final['Type'].nunique()\n",
    "print(f\"Number of distinct categories: {distinct_categories}\")"
   ]
  },
  {
   "cell_type": "code",
   "execution_count": 17,
   "id": "f2f38d82",
   "metadata": {},
   "outputs": [
    {
     "name": "stdout",
     "output_type": "stream",
     "text": [
      "Average monthly spend by customers: 4572782.527947495\n"
     ]
    }
   ],
   "source": [
    "# c. What is the average monthly spend by customers?\n",
    "\n",
    "# first find list of customer spend monthwise\n",
    "average_monthly_spend = final.groupby(['Customer', 'Month_y'])['Amount_y'].sum().mean()\n",
    "\n",
    "print(f\"Average monthly spend by customers: {average_monthly_spend}\")"
   ]
  },
  {
   "cell_type": "code",
   "execution_count": 18,
   "id": "0dcba813",
   "metadata": {},
   "outputs": [],
   "source": [
    "final.rename(columns={'Month_x': 'Repayment_Date', 'Amount_x': 'Repayment_amount', 'Month_y': 'spend_date', 'Amount_y': 'spend_amount'}, inplace=True)"
   ]
  },
  {
   "cell_type": "code",
   "execution_count": 19,
   "id": "5dc6a371",
   "metadata": {},
   "outputs": [
    {
     "data": {
      "text/html": [
       "<div>\n",
       "<style scoped>\n",
       "    .dataframe tbody tr th:only-of-type {\n",
       "        vertical-align: middle;\n",
       "    }\n",
       "\n",
       "    .dataframe tbody tr th {\n",
       "        vertical-align: top;\n",
       "    }\n",
       "\n",
       "    .dataframe thead th {\n",
       "        text-align: right;\n",
       "    }\n",
       "</style>\n",
       "<table border=\"1\" class=\"dataframe\">\n",
       "  <thead>\n",
       "    <tr style=\"text-align: right;\">\n",
       "      <th></th>\n",
       "      <th>No</th>\n",
       "      <th>Customer</th>\n",
       "      <th>Age</th>\n",
       "      <th>City</th>\n",
       "      <th>Product</th>\n",
       "      <th>Limit</th>\n",
       "      <th>Company</th>\n",
       "      <th>Segment</th>\n",
       "      <th>SL No:</th>\n",
       "      <th>Repayment_Date</th>\n",
       "      <th>Repayment_amount</th>\n",
       "      <th>Unnamed: 4</th>\n",
       "      <th>Sl No:</th>\n",
       "      <th>spend_date</th>\n",
       "      <th>Type</th>\n",
       "      <th>spend_amount</th>\n",
       "    </tr>\n",
       "  </thead>\n",
       "  <tbody>\n",
       "    <tr>\n",
       "      <th>0</th>\n",
       "      <td>1.0</td>\n",
       "      <td>A1</td>\n",
       "      <td>76.0</td>\n",
       "      <td>BANGALORE</td>\n",
       "      <td>Gold</td>\n",
       "      <td>500000.0</td>\n",
       "      <td>C1</td>\n",
       "      <td>Self Employed</td>\n",
       "      <td>NaN</td>\n",
       "      <td>12-Jan-04</td>\n",
       "      <td>495414.75</td>\n",
       "      <td>NaN</td>\n",
       "      <td>1.0</td>\n",
       "      <td>12-Jan-04</td>\n",
       "      <td>JEWELLERY</td>\n",
       "      <td>485470.80</td>\n",
       "    </tr>\n",
       "    <tr>\n",
       "      <th>1</th>\n",
       "      <td>1.0</td>\n",
       "      <td>A1</td>\n",
       "      <td>76.0</td>\n",
       "      <td>BANGALORE</td>\n",
       "      <td>Gold</td>\n",
       "      <td>500000.0</td>\n",
       "      <td>C1</td>\n",
       "      <td>Self Employed</td>\n",
       "      <td>NaN</td>\n",
       "      <td>12-Jan-04</td>\n",
       "      <td>495414.75</td>\n",
       "      <td>NaN</td>\n",
       "      <td>2.0</td>\n",
       "      <td>3-Jan-04</td>\n",
       "      <td>PETRO</td>\n",
       "      <td>410556.13</td>\n",
       "    </tr>\n",
       "    <tr>\n",
       "      <th>2</th>\n",
       "      <td>1.0</td>\n",
       "      <td>A1</td>\n",
       "      <td>76.0</td>\n",
       "      <td>BANGALORE</td>\n",
       "      <td>Gold</td>\n",
       "      <td>500000.0</td>\n",
       "      <td>C1</td>\n",
       "      <td>Self Employed</td>\n",
       "      <td>NaN</td>\n",
       "      <td>12-Jan-04</td>\n",
       "      <td>495414.75</td>\n",
       "      <td>NaN</td>\n",
       "      <td>3.0</td>\n",
       "      <td>15-Jan-04</td>\n",
       "      <td>CLOTHES</td>\n",
       "      <td>23740.46</td>\n",
       "    </tr>\n",
       "    <tr>\n",
       "      <th>3</th>\n",
       "      <td>1.0</td>\n",
       "      <td>A1</td>\n",
       "      <td>76.0</td>\n",
       "      <td>BANGALORE</td>\n",
       "      <td>Gold</td>\n",
       "      <td>500000.0</td>\n",
       "      <td>C1</td>\n",
       "      <td>Self Employed</td>\n",
       "      <td>NaN</td>\n",
       "      <td>12-Jan-04</td>\n",
       "      <td>495414.75</td>\n",
       "      <td>NaN</td>\n",
       "      <td>4.0</td>\n",
       "      <td>25-Jan-04</td>\n",
       "      <td>FOOD</td>\n",
       "      <td>484342.47</td>\n",
       "    </tr>\n",
       "    <tr>\n",
       "      <th>4</th>\n",
       "      <td>1.0</td>\n",
       "      <td>A1</td>\n",
       "      <td>76.0</td>\n",
       "      <td>BANGALORE</td>\n",
       "      <td>Gold</td>\n",
       "      <td>500000.0</td>\n",
       "      <td>C1</td>\n",
       "      <td>Self Employed</td>\n",
       "      <td>NaN</td>\n",
       "      <td>12-Jan-04</td>\n",
       "      <td>495414.75</td>\n",
       "      <td>NaN</td>\n",
       "      <td>5.0</td>\n",
       "      <td>17-Jan-05</td>\n",
       "      <td>CAMERA</td>\n",
       "      <td>369694.07</td>\n",
       "    </tr>\n",
       "  </tbody>\n",
       "</table>\n",
       "</div>"
      ],
      "text/plain": [
       "    No Customer   Age       City Product     Limit Company        Segment  \\\n",
       "0  1.0       A1  76.0  BANGALORE    Gold  500000.0      C1  Self Employed   \n",
       "1  1.0       A1  76.0  BANGALORE    Gold  500000.0      C1  Self Employed   \n",
       "2  1.0       A1  76.0  BANGALORE    Gold  500000.0      C1  Self Employed   \n",
       "3  1.0       A1  76.0  BANGALORE    Gold  500000.0      C1  Self Employed   \n",
       "4  1.0       A1  76.0  BANGALORE    Gold  500000.0      C1  Self Employed   \n",
       "\n",
       "   SL No: Repayment_Date  Repayment_amount  Unnamed: 4  Sl No: spend_date  \\\n",
       "0     NaN      12-Jan-04         495414.75         NaN     1.0  12-Jan-04   \n",
       "1     NaN      12-Jan-04         495414.75         NaN     2.0   3-Jan-04   \n",
       "2     NaN      12-Jan-04         495414.75         NaN     3.0  15-Jan-04   \n",
       "3     NaN      12-Jan-04         495414.75         NaN     4.0  25-Jan-04   \n",
       "4     NaN      12-Jan-04         495414.75         NaN     5.0  17-Jan-05   \n",
       "\n",
       "        Type  spend_amount  \n",
       "0  JEWELLERY     485470.80  \n",
       "1      PETRO     410556.13  \n",
       "2    CLOTHES      23740.46  \n",
       "3       FOOD     484342.47  \n",
       "4     CAMERA     369694.07  "
      ]
     },
     "execution_count": 19,
     "metadata": {},
     "output_type": "execute_result"
    }
   ],
   "source": [
    "final.head()"
   ]
  },
  {
   "cell_type": "code",
   "execution_count": 20,
   "id": "c0d95a53",
   "metadata": {},
   "outputs": [
    {
     "name": "stdout",
     "output_type": "stream",
     "text": [
      "Customer  Month\n",
      "A1        1.0      372762.587143\n",
      "          2.0      175235.690000\n",
      "          4.0      261649.250000\n",
      "          5.0      361141.310000\n",
      "          8.0      344372.100000\n",
      "                       ...      \n",
      "A95       1.0      240401.500000\n",
      "A96       1.0       54729.660000\n",
      "A97       1.0        5000.000000\n",
      "A98       1.0        5000.500000\n",
      "A99       1.0        5001.000000\n",
      "Name: spend_amount, Length: 578, dtype: float64\n"
     ]
    }
   ],
   "source": [
    "# Extract the month from the 'spend_date' column and calculate the average spend\n",
    "final['spend_date'] = pd.to_datetime(final['spend_date'], format='%d-%b-%y')\n",
    "final['Month'] = final['spend_date'].dt.month\n",
    "\n",
    "average_monthly_spend = final.groupby(['Customer', 'Month'])['spend_amount'].mean()\n",
    "\n",
    "print(average_monthly_spend)"
   ]
  },
  {
   "cell_type": "code",
   "execution_count": 21,
   "id": "640f4e7b",
   "metadata": {},
   "outputs": [
    {
     "name": "stdout",
     "output_type": "stream",
     "text": [
      "Customer  Month\n",
      "A1        1.0      343972.327143\n",
      "          2.0      156374.760000\n",
      "          4.0      254474.580000\n",
      "          7.0      297176.740000\n",
      "          9.0      186427.500000\n",
      "                       ...      \n",
      "A95       1.0      369405.960000\n",
      "A96       1.0      100000.000000\n",
      "A97       1.0       10000.000000\n",
      "A98       1.0       10001.000000\n",
      "A99       1.0       10002.000000\n",
      "Name: Repayment_amount, Length: 558, dtype: float64\n"
     ]
    }
   ],
   "source": [
    "#  d. What is the average monthly repayment by customers?\n",
    "\n",
    "final['Repayment_Date'] = pd.to_datetime(final['Repayment_Date'], format = '%d-%b-%y')\n",
    "# Extract month\n",
    "final['Month'] = final['Repayment_Date'].dt.month\n",
    "\n",
    "average_monthly_repayment = final.groupby(['Customer','Month'])['Repayment_amount'].mean()\n",
    "\n",
    "print(average_monthly_repayment)"
   ]
  },
  {
   "cell_type": "code",
   "execution_count": 22,
   "id": "2a43f078",
   "metadata": {},
   "outputs": [
    {
     "name": "stdout",
     "output_type": "stream",
     "text": [
      "      Customer spend_date  Repayment_amount  spend_amount  Monthly_Profit  \\\n",
      "0           A1 2004-01-12         495414.75     485470.80         9943.95   \n",
      "1           A1 2004-01-03         495414.75     410556.13        84858.62   \n",
      "2           A1 2004-01-15         495414.75      23740.46       471674.29   \n",
      "3           A1 2004-01-25         495414.75     484342.47        11072.28   \n",
      "4           A1 2005-01-17         495414.75     369694.07       125720.68   \n",
      "...        ...        ...               ...           ...             ...   \n",
      "37302      NaN        NaT               NaN           NaN             NaN   \n",
      "37303      NaN        NaT               NaN           NaN             NaN   \n",
      "37304      NaN        NaT               NaN           NaN             NaN   \n",
      "37305      NaN        NaT               NaN           NaN             NaN   \n",
      "37306      NaN        NaT               NaN           NaN             NaN   \n",
      "\n",
      "            Profit  \n",
      "0        288.37455  \n",
      "1       2460.89998  \n",
      "2      13678.55441  \n",
      "3        321.09612  \n",
      "4       3645.89972  \n",
      "...            ...  \n",
      "37302          NaN  \n",
      "37303          NaN  \n",
      "37304          NaN  \n",
      "37305          NaN  \n",
      "37306          NaN  \n",
      "\n",
      "[37307 rows x 6 columns]\n"
     ]
    }
   ],
   "source": [
    "# e. If the monthly rate of interest is 2.9%, what is the profit for the bank for each month?\n",
    "\n",
    "# Convert 'Repayment_amount' and 'spend_amount' columns to numeric values\n",
    "final['Repayment_amount'] = pd.to_numeric(final['Repayment_amount'], errors='coerce')\n",
    "final['spend_amount'] = pd.to_numeric(final['spend_amount'], errors='coerce')\n",
    "\n",
    "# Calculate Monthly Profit (Monthly repayment - Monthly spend)\n",
    "final['Monthly_Profit'] = final['Repayment_amount'] - final['spend_amount']\n",
    "\n",
    "# Define the monthly interest rate (2.9% or 0.029)\n",
    "monthly_interest_rate = 0.029\n",
    "\n",
    "# Calculate Profit based on the given conditions (Interest earned only on positive profits)\n",
    "final['Monthly_Profit'] = final['Monthly_Profit'].apply(lambda x: max(x, 0))\n",
    "final['Profit'] = final['Monthly_Profit'] * monthly_interest_rate\n",
    "\n",
    "# Display the result\n",
    "print(final[['Customer', 'spend_date', 'Repayment_amount', 'spend_amount', 'Monthly_Profit', 'Profit']])"
   ]
  },
  {
   "cell_type": "code",
   "execution_count": 23,
   "id": "d6a585fa",
   "metadata": {},
   "outputs": [
    {
     "name": "stdout",
     "output_type": "stream",
     "text": [
      "PETRO           4829\n",
      "CAMERA          4237\n",
      "FOOD            4056\n",
      "AIR TICKET      3537\n",
      "TRAIN TICKET    3387\n",
      "Name: Type, dtype: int64\n"
     ]
    }
   ],
   "source": [
    "# f. What are the top 5 product types?\n",
    "\n",
    "top_product_types = final['Type'].value_counts().head(5)\n",
    "\n",
    "print(top_product_types)"
   ]
  },
  {
   "cell_type": "code",
   "execution_count": 24,
   "id": "750182f4",
   "metadata": {},
   "outputs": [
    {
     "data": {
      "text/plain": [
       "Customer  City     \n",
       "A1        BANGALORE    92568649.68\n",
       "Name: spend_amount, dtype: float64"
      ]
     },
     "execution_count": 24,
     "metadata": {},
     "output_type": "execute_result"
    }
   ],
   "source": [
    "# g. Which city is having maximum spend?\n",
    "\n",
    "max_spend_amount = final.groupby(['Customer', 'City'])['spend_amount'].sum()\n",
    "\n",
    "max_spend_amount.head(1)"
   ]
  },
  {
   "cell_type": "code",
   "execution_count": 25,
   "id": "6c97e7c8",
   "metadata": {},
   "outputs": [
    {
     "data": {
      "text/plain": [
       "Customer  Age \n",
       "A1        76.0    92568649.68\n",
       "Name: spend_amount, dtype: float64"
      ]
     },
     "execution_count": 25,
     "metadata": {},
     "output_type": "execute_result"
    }
   ],
   "source": [
    "#  h. Which age group is spending more money?\n",
    "\n",
    "age_spend = final.groupby(['Customer', 'Age'])['spend_amount'].sum()\n",
    "\n",
    "age_spend.head(1)\n",
    "\n"
   ]
  },
  {
   "cell_type": "code",
   "execution_count": 26,
   "id": "4cd97924",
   "metadata": {},
   "outputs": [
    {
     "data": {
      "image/png": "[encoded data removed]",
      "text/plain": [
       "<Figure size 1200x600 with 1 Axes>"
      ]
     },
     "metadata": {},
     "output_type": "display_data"
    }
   ],
   "source": [
    "# 3. Calculate the city wise spend on each product on yearly basis. Also include a graphical representation for the same.\n",
    "\n",
    "# Convert 'spend_date' to a pandas datetime object and extract the year\n",
    "final['spend_date'] = pd.to_datetime(final['spend_date'], format='%d-%b-%y')\n",
    "final['Year'] = final['spend_date'].dt.year\n",
    "\n",
    "# Group the data by 'City', 'Product', and 'Year', and calculate the total spend\n",
    "city_spend = final.groupby(['City', 'Product', 'Year'])['spend_amount'].sum().reset_index()\n",
    "\n",
    "# Create a graphical representation using pandas\n",
    "pivot_table = city_spend.pivot_table(index=['City', 'Product'], columns='Year', values='spend_amount', fill_value=0)\n",
    "pivot_table.plot(kind='bar', figsize=(12, 6))\n",
    "\n",
    "plt.title(\"City-Wise Spend on Each Product on Yearly Basis\")\n",
    "plt.xlabel(\"City, Product\")\n",
    "plt.ylabel(\"Total Spend\")\n",
    "plt.legend(title=\"Year\")\n",
    "plt.show()"
   ]
  },
  {
   "cell_type": "code",
   "execution_count": 27,
   "id": "f38cd639",
   "metadata": {},
   "outputs": [
    {
     "data": {
      "image/png": "[encoded data removed]",
      "text/plain": [
       "<Figure size 1200x600 with 1 Axes>"
      ]
     },
     "metadata": {},
     "output_type": "display_data"
    }
   ],
   "source": [
    "# 4. Create graphs for a Monthly comparison of total spends, city wise\n",
    "\n",
    "# Convert 'spend_date' to a pandas datetime object and extract the year and month\n",
    "final['spend_date'] = pd.to_datetime(final['spend_date'], format='%d-%b-%y')\n",
    "final['Month'] = final['spend_date'].dt.month\n",
    "\n",
    "# Group the data by 'City', 'Year', and 'Month' and calculate the total spend\n",
    "city_monthly_spend = final.groupby(['City', 'Month'])['spend_amount'].sum().reset_index()\n",
    "\n",
    "# Pivot the data for plotting\n",
    "pivot_table = city_monthly_spend.pivot(index=['City'], columns='Month', values='spend_amount')\n",
    "\n",
    "# Create the graphs using pandas\n",
    "pivot_table.plot(kind='bar', figsize=(12, 6), colormap='viridis')\n",
    "\n",
    "plt.title(\"Monthly Comparison of Total Spends, City-wise\")\n",
    "plt.xlabel(\"City\")\n",
    "plt.ylabel(\"Total Spend\")\n",
    "plt.legend(title=\"Month\")\n",
    "plt.show()"
   ]
  },
  {
   "cell_type": "code",
   "execution_count": 27,
   "id": "cfc710ea",
   "metadata": {},
   "outputs": [
    {
     "name": "stdout",
     "output_type": "stream",
     "text": [
      "No data for 'Air Ticket' found in the dataset.\n"
     ]
    }
   ],
   "source": [
    "# b. Comparison of yearly spend on air tickets\n",
    "\n",
    "# Convert 'spend_date' to a pandas datetime object and extract the year\n",
    "final['spend_date'] = pd.to_datetime(final['spend_date'], format='%d-%b-%y')\n",
    "final['Year'] = final['spend_date'].dt.year\n",
    "\n",
    "# Create a boolean mask to filter rows where 'Type' is 'Air Ticket'\n",
    "air_ticket_mask = final['Type'] == 'Air Ticket'\n",
    "\n",
    "# Check if there is any data that matches the filter condition\n",
    "if air_ticket_mask.any():\n",
    "    # Group the data by 'Year' and calculate the total spend for air tickets\n",
    "    air_ticket_yearly_spend = final[air_ticket_mask].groupby('Year')['spend_amount'].sum()\n",
    "\n",
    "    # Create a bar plot for yearly spend on air tickets\n",
    "    air_ticket_yearly_spend.plot(kind='bar', figsize=(10, 6))\n",
    "\n",
    "    plt.title(\"Yearly Spend on Air Tickets\")\n",
    "    plt.xlabel(\"Year\")\n",
    "    plt.ylabel(\"Total Spend\")\n",
    "    plt.show()\n",
    "else:\n",
    "    print(\"No data for 'Air Ticket' found in the dataset.\")"
   ]
  },
  {
   "cell_type": "code",
   "execution_count": 28,
   "id": "4b845a27",
   "metadata": {},
   "outputs": [
    {
     "data": {
      "image/png": "[encoded data removed]",
      "text/plain": [
       "<Figure size 1200x600 with 1 Axes>"
      ]
     },
     "metadata": {},
     "output_type": "display_data"
    }
   ],
   "source": [
    "# c. Comparison of monthly spend for each product (look for any seasonality that exists in terms of spend)\n",
    "\n",
    "# Convert 'spend_date' to a pandas datetime object and extract the month\n",
    "final['spend_date'] = pd.to_datetime(final['spend_date'], format='%d-%b-%y')\n",
    "final['Month'] = final['spend_date'].dt.month\n",
    "\n",
    "# Group the data by 'Product' and 'Month' and calculate the total spend\n",
    "product_monthly_spend = final.groupby(['Product', 'Month'])['spend_amount'].sum().reset_index()\n",
    "\n",
    "# Pivot the data for plotting\n",
    "pivot_table = product_monthly_spend.pivot(index='Month', columns='Product', values='spend_amount')\n",
    "\n",
    "# Create the graph using pandas\n",
    "pivot_table.plot(kind='line', figsize=(12, 6))\n",
    "\n",
    "plt.title(\"Monthly Spend for Each Product\")\n",
    "plt.xlabel(\"Month\")\n",
    "plt.ylabel(\"Total Spend\")\n",
    "plt.legend(title=\"Product\")\n",
    "plt.show()"
   ]
  },
  {
   "cell_type": "markdown",
   "id": "3c308d75",
   "metadata": {},
   "source": [
    "# 5. Write user defined PYTHON function to perform the following analysis: \n",
    "#  You need to find top 10 customers for each city in terms of their repayment amount by different products and by different time periods i.e. year or month. The user should be able to specify the product (Gold/Silver/Platinum) and time period (yearly or monthly) and the  function should automatically take these inputs while identifying the top 10 customers\n"
   ]
  },
  {
   "cell_type": "code",
   "execution_count": 28,
   "id": "6265ecba",
   "metadata": {},
   "outputs": [
    {
     "name": "stdout",
     "output_type": "stream",
     "text": [
      "Please enter the product (Gold/Silver/Platinum): Gold\n",
      "Please enter the time period (yearly/monthly): 2005/Mar\n",
      "           City Product    Year  Month Customer  Repayment_amount\n",
      "0     BANGALORE    Gold  2004.0    1.0      A43       59101421.57\n",
      "1     BANGALORE    Gold  2004.0    1.0      A13       50457725.67\n",
      "2     BANGALORE    Gold  2004.0    1.0       A1       40353001.38\n",
      "3     BANGALORE    Gold  2004.0    1.0      A14       30786560.97\n",
      "4     BANGALORE    Gold  2004.0    1.0      A30       10246832.10\n",
      "..          ...     ...     ...    ...      ...               ...\n",
      "300  TRIVANDRUM    Gold  2006.0    2.0      A28        8607920.76\n",
      "301  TRIVANDRUM    Gold  2006.0    3.0      A28       41770832.22\n",
      "302  TRIVANDRUM    Gold  2006.0    4.0      A28        3113821.17\n",
      "303  TRIVANDRUM    Gold  2006.0    5.0      A28       25111939.95\n",
      "304  TRIVANDRUM    Gold  2006.0    7.0      A28       10272430.80\n",
      "\n",
      "[305 rows x 6 columns]\n"
     ]
    }
   ],
   "source": [
    "import pandas as pd\n",
    "\n",
    "# Convert the repayment date column to a datetime column\n",
    "final['Repayment_Date'] = pd.to_datetime(final['Repayment_Date'])\n",
    "\n",
    "# Create separate columns for year and month\n",
    "final['Year'] = final['Repayment_Date'].dt.year\n",
    "final['Month'] = final['Repayment_Date'].dt.month\n",
    "\n",
    "# Get user input for product and time period\n",
    "product = input(\"Please enter the product (Gold/Silver/Platinum): \").lower()\n",
    "time_period = input(\"Please enter the time period (yearly/monthly): \").lower()\n",
    "\n",
    "# Filter the data based on user input\n",
    "if time_period == 'yearly':\n",
    "    final = final.groupby(['City', 'Product', 'Year', 'Customer'])['Repayment_amount'].sum().reset_index()\n",
    "else:\n",
    "    final = final.groupby(['City', 'Product', 'Year', 'Month', 'Customer'])['Repayment_amount'].sum().reset_index()\n",
    "\n",
    "final = final[final['Product'].str.lower() == product]\n",
    "\n",
    "# Get the top 10 customers for each city\n",
    "top_10_customers = final.groupby(['City', 'Product', 'Year', 'Month']).apply(lambda x: x.nlargest(10, 'Repayment_amount')).reset_index(drop=True)\n",
    "\n",
    "print(top_10_customers)"
   ]
  },
  {
   "cell_type": "code",
   "execution_count": 21,
   "id": "a5aefa38",
   "metadata": {},
   "outputs": [
    {
     "data": {
      "text/plain": [
       "Index(['No', 'Customer', 'Age', 'City', 'Product', 'Limit', 'Company',\n",
       "       'Segment', 'SL No:', 'Month_x', 'Amount_x', 'Unnamed: 4', 'Sl No:',\n",
       "       'Month_y', 'Type', 'Amount_y'],\n",
       "      dtype='object')"
      ]
     },
     "execution_count": 21,
     "metadata": {},
     "output_type": "execute_result"
    }
   ],
   "source": [
    "final.columns"
   ]
  },
  {
   "cell_type": "code",
   "execution_count": null,
   "id": "d782e682",
   "metadata": {},
   "outputs": [],
   "source": []
  }
 ],
 "metadata": {
  "kernelspec": {
   "display_name": "Python 3 (ipykernel)",
   "language": "python",
   "name": "python3"
  },
  "language_info": {
   "codemirror_mode": {
    "name": "ipython",
    "version": 3
   },
   "file_extension": ".py",
   "mimetype": "text/x-python",
   "name": "python",
   "nbconvert_exporter": "python",
   "pygments_lexer": "ipython3",
   "version": "3.11.4"
  }
 },
 "nbformat": 4,
 "nbformat_minor": 5
}
